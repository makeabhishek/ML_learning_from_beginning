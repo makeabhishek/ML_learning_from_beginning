{
 "cells": [
  {
   "cell_type": "markdown",
   "id": "5673c6d0-bcf5-4def-9b5c-4d794e23399f",
   "metadata": {},
   "source": [
    "# Large Language Models with Semantic Search\n",
    "How to use LLM for information search in the LLM applciations.\n",
    "Lets assume we want to find some information from a ebste. Earleire we use keywords to search website, But now we can now use semantic search using LLMs to search more information.\n",
    "\n",
    "## Outline\n",
    "- Keyword (lexical search) vs. Semantic Search\n",
    "    Lexical search by finding keywods with higest number of similarity.,\n",
    "- Ranking Responses\n",
    "    - We do keyword search using rerank. Rank the responses as the relevance to the quesry\n",
    "- Embeddings\n",
    "    - A way to assocaite a vector of numbers with every piece of text\n",
    "- Dense Retrievals\n",
    "    - Advacne search methods like embedding, this useses a powerfulr tool in NLP called embedding\n",
    "    - Semantic search consist of finding the closest docuement to the query in the sapce of embeddings\n",
    "    - Dense Retrievals with embeddings vastluy improves the question answering capabilities of an LLM, as it forst searches for a retrieves a relvant documents and than create answers from these retrieve information \n",
    "- Evalauatin Metnod\n",
    "    - Effective ways to evalaute LLM\n",
    "- Search-Powered LLMs"
   ]
  },
  {
   "cell_type": "code",
   "execution_count": null,
   "id": "109f34ad-495f-492e-ba53-235477adc067",
   "metadata": {},
   "outputs": [],
   "source": []
  }
 ],
 "metadata": {
  "kernelspec": {
   "display_name": "Python 3 (ipykernel)",
   "language": "python",
   "name": "python3"
  },
  "language_info": {
   "codemirror_mode": {
    "name": "ipython",
    "version": 3
   },
   "file_extension": ".py",
   "mimetype": "text/x-python",
   "name": "python",
   "nbconvert_exporter": "python",
   "pygments_lexer": "ipython3",
   "version": "3.13.2"
  }
 },
 "nbformat": 4,
 "nbformat_minor": 5
}
