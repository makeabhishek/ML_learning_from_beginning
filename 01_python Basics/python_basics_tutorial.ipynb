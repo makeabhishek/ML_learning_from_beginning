{
 "cells": [
  {
   "cell_type": "markdown",
   "id": "0359ee78",
   "metadata": {},
   "source": [
    "# Python Basics Tutorial\n",
    "This notebook covers Python basics such as data types, variables, control flow, functions, and more."
   ]
  },
  {
   "cell_type": "markdown",
   "id": "1449d938",
   "metadata": {},
   "source": [
    "## 1. Basic Syntax and Variables"
   ]
  },
  {
   "cell_type": "code",
   "execution_count": null,
   "id": "cab1fdb2",
   "metadata": {},
   "outputs": [],
   "source": [
    "# Variable assignment\n",
    "x = 5\n",
    "y = 3.2\n",
    "name = \"Python\"\n",
    "\n",
    "# Displaying variables\n",
    "print(x)\n",
    "print(y)\n",
    "print(name)"
   ]
  },
  {
   "cell_type": "markdown",
   "id": "c3363dde",
   "metadata": {},
   "source": [
    "### Data Types in Python"
   ]
  },
  {
   "cell_type": "code",
   "execution_count": null,
   "id": "624fcd6e",
   "metadata": {},
   "outputs": [],
   "source": [
    "# Checking data types\n",
    "type(x)  # Output: <class 'int'>"
   ]
  },
  {
   "cell_type": "markdown",
   "id": "2094fba9",
   "metadata": {},
   "source": [
    "### String Operations"
   ]
  },
  {
   "cell_type": "code",
   "execution_count": null,
   "id": "85328205",
   "metadata": {},
   "outputs": [],
   "source": [
    "# String concatenation\n",
    "greeting = name + \" is amazing!\"\n",
    "greeting"
   ]
  },
  {
   "cell_type": "markdown",
   "id": "79b29c34",
   "metadata": {},
   "source": [
    "## 2. Control Structures"
   ]
  },
  {
   "cell_type": "code",
   "execution_count": null,
   "id": "0bda09d1",
   "metadata": {},
   "outputs": [],
   "source": [
    "# If-else statement\n",
    "age = 18\n",
    "if age >= 18:\n",
    "    print(\"You are an adult.\")\n",
    "else:\n",
    "    print(\"You are a minor.\")"
   ]
  },
  {
   "cell_type": "markdown",
   "id": "d77956e3",
   "metadata": {},
   "source": [
    "### For Loop"
   ]
  },
  {
   "cell_type": "code",
   "execution_count": null,
   "id": "025a37c9",
   "metadata": {},
   "outputs": [],
   "source": [
    "# Looping through a list\n",
    "fruits = ['apple', 'banana', 'cherry']\n",
    "for fruit in fruits:\n",
    "    print(fruit)"
   ]
  },
  {
   "cell_type": "markdown",
   "id": "bcb4473d",
   "metadata": {},
   "source": [
    "## 3. Functions"
   ]
  },
  {
   "cell_type": "code",
   "execution_count": null,
   "id": "af744b0c",
   "metadata": {},
   "outputs": [],
   "source": [
    "# Defining a function\n",
    "def square(num):\n",
    "    return num * num\n",
    "\n",
    "square(5)  # Output: 25"
   ]
  }
 ],
 "metadata": {},
 "nbformat": 4,
 "nbformat_minor": 5
}
