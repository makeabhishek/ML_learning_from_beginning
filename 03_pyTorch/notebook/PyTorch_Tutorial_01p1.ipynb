{
 "cells": [
  {
   "cell_type": "markdown",
   "id": "0a88d5c8-e0b8-45a4-a51a-5c42059f826d",
   "metadata": {},
   "source": [
    "<div style=\"text-align: center; font-size: 32px; font-weight: bold;\">\n",
    "    Table of Contents for Tutorial\n",
    "</div>\n",
    "\n",
    "\n",
    "1. Pytorch Installation\n",
    "2. Basics of PyTorch (and Tensors)\\\n",
    "        2.1 Overview \\\n",
    "        2.2 Tensor Basics \\\n",
    "        2.3 Tensors Operations and Manipulation \\\n",
    "        2.4 Gradient Calculation and intro to Computational Graph (CG)\n",
    "4. Concepts in PyTorch \\\n",
    "        3.1 Autograd \\\n",
    "        3.2 computational graphs\n",
    "5. Backpropagation\n",
    "6. Gradient Descent With Autograd and Backpropagation \\\n",
    "        5.1 Understand linear Regression\n",
    "7. Training Pipeline: Model, Loss, and Optimizer\n",
    "8. Linear Regression\n",
    "9. Logistic Regression\n",
    "10. Dataset and DataLoader\n",
    "11. Dataset Transforms\n",
    "12. Softmax And Cross Entropy\n",
    "13. Activation Functions\n",
    "14. Feed-Forward Neural Net\n",
    "15. Convolutional Neural Net (CNN)\n",
    "16. Transfer Learning\n",
    "17. Tensorboard\n",
    "18. Save and Load Models\n"
   ]
  },
  {
   "cell_type": "markdown",
   "id": "2b24c44a-c461-48b2-8c0a-cec5144b493e",
   "metadata": {
    "jp-MarkdownHeadingCollapsed": true
   },
   "source": [
    "<div style=\"text-align: center; font-size: 32px; font-weight: bold;\">\n",
    "    PyTorch Tutorial 01: Installation\n",
    "</div>"
   ]
  },
  {
   "cell_type": "markdown",
   "id": "d0d98c61-f79d-4271-a2c0-9f6ebd8dbd63",
   "metadata": {},
   "source": [
    "Install Anaconda : https://docs.conda.io/projects/conda/en/23.1.x/user-guide/install/index.html\n",
    "\n",
    "Create conda environment: `conda create -n pytorch` or `conda create --name pytorch` \\\n",
    "Activate environment: `conda activate pytorch` \\\n",
    "Install pip for the environment: `conda install pip` \\\n",
    "Install PyTorch in the environment from pytorch website https://pytorch.org/get-started/locally/ \\\n",
    "Install other dependencies: \n",
    "`pip install notebook` \n",
    "`pip install numpy`\n",
    "`pip install matplotlib`\n",
    "\n",
    "Alternatively \\\n",
    "`conda create --name pytorch python=3.9 numpy pytorch torchvision torchaudio matplotlib scipy -c pytorch -c conda-forge` \\\n",
    "`conda activate pytorch`\n"
   ]
  },
  {
   "cell_type": "markdown",
   "id": "77bb0065-7c3b-4c19-817a-4d6d627247a6",
   "metadata": {},
   "source": [
    "check installed environments \\\n",
    "`conda env list`"
   ]
  },
  {
   "cell_type": "markdown",
   "id": "ea9ac943-a7ad-4f66-92bf-1852bdbf528f",
   "metadata": {},
   "source": [
    "Launch python shell to test PyTorch \\\n",
    "`python` \\\n",
    "import pytorch \\\n",
    "`import torch` \\\n",
    "`x=torch.rand(3)` \\\n",
    "`print(x)` \\\n",
    "`torch.__version__`\n",
    "\n",
    "Check if CUDA is available \n",
    "`torch.cuda.is_available()` \\\n",
    "\n",
    "Check all the packages installed in the evirenmont: `pip3 list`"
   ]
  },
  {
   "cell_type": "markdown",
   "id": "6edf6099-f8bf-4353-857c-2c376bbde7da",
   "metadata": {},
   "source": [
    "## 2. Install packages using a YAML file\n",
    "YAML (Markup Language) is a human-readable data format used for configuration files, data storage, and communication between applications. It is commonly used in Anaconda environments, Docker configurations, Kubernetes, and CI/CD pipelines.\n",
    "\n",
    "To create a new Conda environment named `pytorch` and install `numpy, pytorch, matplotlib, and scipy`, follow these steps:"
   ]
  },
  {
   "cell_type": "markdown",
   "id": "2dce5aca-ba34-466a-9171-e3b9addbd9b1",
   "metadata": {},
   "source": [
    "Create a file named `pytorch_env.yaml` with the following contents:\n",
    "```\n",
    "name: pytorch\n",
    "channels:\n",
    "  - defaults\n",
    "  - conda-forge\n",
    "  - pytorch\n",
    "dependencies:\n",
    "  - python=3.9\n",
    "  - numpy\n",
    "  - pytorch\n",
    "  - torchvision\n",
    "  - torchaudio\n",
    "  - matplotlib\n",
    "  - scipy\n",
    "```\n",
    "\n",
    "Create and Activate the Conda Environment\n",
    "1. Open Anaconda Prompt (or any terminal where Conda is available).\n",
    "2. Navigate to the directory where you saved pytorch_env.yaml.\n",
    "3. Run the following command to create the environment:\n",
    "\n",
    "`conda env create -f pytorch_env.yaml` \\\n",
    "Activate the environment: \\\n",
    "`conda activate pytorch` \\\n",
    "Verify Installation \\\n",
    "`python -c \"import numpy; import torch; import matplotlib; import scipy; print('All packages installed successfully!')\"` \\\n",
    "If everything is installed correctly, you should see: All packages installed successfully!"
   ]
  },
  {
   "cell_type": "markdown",
   "id": "387e1746-d79c-44c8-b670-7af65fd4c391",
   "metadata": {},
   "source": [
    "## 3.  Use Python to generate the `pytorch_env.yaml`\n",
    "\n",
    "```\n",
    "import yaml\n",
    "\n",
    "# Define the environment configuration\n",
    "env_config = {\n",
    "    \"name\": \"pytorch\",\n",
    "    \"channels\": [\"defaults\", \"conda-forge\", \"pytorch\"],\n",
    "    \"dependencies\": [\n",
    "        \"python=3.9\",\n",
    "        \"numpy\",\n",
    "        \"pytorch\",\n",
    "        \"torchvision\",\n",
    "        \"torchaudio\",\n",
    "        \"matplotlib\",\n",
    "        \"scipy\"\n",
    "    ]\n",
    "}\n",
    "\n",
    "# Write to a YAML file\n",
    "yaml_filename = \"pytorch_env.yaml\"\n",
    "\n",
    "with open(yaml_filename, \"w\") as file:\n",
    "    yaml.dump(env_config, file, default_flow_style=False)\n",
    "\n",
    "print(f\"YAML file '{yaml_filename}' created successfully!\")\n",
    "```\n",
    "\n",
    "### How to Use This Script: Copy and paste the code into a Python script (create_yaml.py).\n",
    "Run the script using: \\\n",
    "`python create_yaml.py` \\\n",
    "It will generate a `pytorch_env.yaml` file in the same directory. You can then create the environment using: \\\n",
    "`conda env create -f pytorch_env.yaml`"
   ]
  },
  {
   "cell_type": "markdown",
   "id": "50620611-aef5-4450-ab34-c3c0f60c1d9a",
   "metadata": {},
   "source": [
    "--------------------------------------------------------------------------------------------------------------------------------------------\n",
    "--------------------------------------------------------------------------------------------------------------------------------------------"
   ]
  },
  {
   "cell_type": "markdown",
   "id": "4fbccfd8-93d0-4d8f-8e4f-08ddc66fa123",
   "metadata": {},
   "source": [
    "<div style=\"\n",
    "    font-size:24px; \n",
    "    font-weight:bold; \n",
    "    color:#4CAF50; \n",
    "    text-align:center; \n",
    "    padding:20px;\n",
    "    border-radius:10px;\n",
    "    background-color:#f0f0f0;\">\n",
    "    🎉 Thank You for Using This Notebook! 🚀<br> \n",
    "    <span style=\"color:#ff5722;\">Happy Coding & Keep Learning! 💡</span>\n",
    "</div>"
   ]
  },
  {
   "cell_type": "code",
   "execution_count": null,
   "id": "02a1d6eb-51ba-405d-91a7-e3a7df7542b6",
   "metadata": {},
   "outputs": [],
   "source": []
  }
 ],
 "metadata": {
  "kernelspec": {
   "display_name": "Python 3 (ipykernel)",
   "language": "python",
   "name": "python3"
  },
  "language_info": {
   "codemirror_mode": {
    "name": "ipython",
    "version": 3
   },
   "file_extension": ".py",
   "mimetype": "text/x-python",
   "name": "python",
   "nbconvert_exporter": "python",
   "pygments_lexer": "ipython3",
   "version": "3.9.21"
  }
 },
 "nbformat": 4,
 "nbformat_minor": 5
}
