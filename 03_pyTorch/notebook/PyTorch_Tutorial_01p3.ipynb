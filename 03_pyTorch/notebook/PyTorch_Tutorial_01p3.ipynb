{
 "cells": [
  {
   "cell_type": "markdown",
   "id": "0a88d5c8-e0b8-45a4-a51a-5c42059f826d",
   "metadata": {},
   "source": [
    "<div style=\"text-align: center; font-size: 32px; font-weight: bold;\">\n",
    "    Variables and Data Types in Python\n",
    "</div>\n",
    "\n",
    "- In Python, we use `#` for single-line comments and `\"\"\" comments \"\"\"` for multiline comments. \\\n",
    "NOTE: Python is serious about indentation.\n",
    "\n",
    "Data Types in Python \\\n",
    "&nbsp; - Numeric Types (`int`, `float`, `complex`)\n",
    "```\n",
    "int: eg.`1, -23, 1000`\n",
    "float: eg. `1.0, -23.5, 1000.99`\n",
    "complex: eg. `2j, -1.2+ 3j`\n",
    "```\n",
    "&nbsp; - Text Type: `str` ; `' ' , \" \" `\n",
    "\n",
    "&nbsp; - Boolean Type: `bool` ; `True/False` \n",
    "\n",
    "&nbsp; - Container Data Types \\\n",
    "&nbsp; - Sequence Types: `List`, `Tuples`, `Ranges` \\\n",
    "&nbsp; - Mapping Type: `Dictionary` \\\n",
    "&nbsp; - Set Types: - `set`, `frozenset` \\\n",
    "&nbsp; - Binary Types: `bytes`, `bytearray`, `memoryview` \\\n",
    "&nbsp; - Memory Model \\\n",
    "&nbsp; - Sequence Unpacking \\\n",
    "&nbsp; - Other Standard Containers"
   ]
  },
  {
   "cell_type": "markdown",
   "id": "9434e43f-009b-49b4-bafd-5859de53205a",
   "metadata": {},
   "source": [
    "<div style=\"text-align: center; font-size: 22px; font-weight: bold;\">\n",
    "    Variables in Python\n",
    "</div>\n",
    "\n",
    "- Variable names are case-sensitive.\n",
    "- A variable is the location of the data in the memory. \n",
    "- Python doesn't need the variable to be declared and it's created right the first time you assign a value to it.\n",
    "- You can use `print()` to display the value of a variable or the result of an expression.\n",
    "- Memory address of a variable `id(variable_name)` or `hex(id(variable_name))`\n",
    "- Type of a variable: `type(variable_name)`.\n",
    "- Size of a variable (in bytes): `import sys`; `sys.getsizeof(variable)`\n",
    "- Every variable in Python is an object, and methods (functions) and attributes (variables) of each object can be called as\n",
    "- `variable_name.method_name()` or `variable_name.attribute_name`.\n",
    "- The size of a variable can be obtained by `variable_name.__sizeof__()`.\n",
    "- Check if an object has a specific attribute: `hasattr(variable, 'attribute_name')`\n",
    "- Get all attributes and methods of an object: `dir(variable)`\n",
    "- Get the class of a variable: `variable.__class__`\n",
    "- Get the documentation of an object: `help(variable)`\n",
    "- Get the module name of a variable python: `variable.__module__`\n",
    "- To get the name of a module itself, `module.__name__`\n",
    "- Check if a variable is an instance of a specific class `isinstance(variable, class_type)`\n",
    "- Check if a class is a subclass of another: `issubclass(subclass, superclass)`\n"
   ]
  },
  {
   "cell_type": "code",
   "execution_count": 6,
   "id": "09d399fe-d4ff-4796-9487-829e4466f424",
   "metadata": {},
   "outputs": [
    {
     "name": "stdout",
     "output_type": "stream",
     "text": [
      "Value: 1 \n",
      "Type: <class 'int'> \n",
      "Size: 28 bytes \n",
      "id: 3240561568048 🤔\n"
     ]
    }
   ],
   "source": [
    "var_name = 1\n",
    "print(\"Value: {} \\nType: {} \\nSize: {} bytes \\nid: {} \\U0001f914\".format(var_name, type(var_name), var_name.__sizeof__(), id(var_name)))"
   ]
  },
  {
   "cell_type": "code",
   "execution_count": 7,
   "id": "550b7663-afc0-4582-bd16-0301a4465072",
   "metadata": {},
   "outputs": [
    {
     "name": "stdout",
     "output_type": "stream",
     "text": [
      "True\n",
      "False\n"
     ]
    }
   ],
   "source": [
    "class Test:\n",
    "    def __init__(self):\n",
    "        self.name = \"Python\"\n",
    "obj = Test()\n",
    "print(hasattr(obj, 'name'))  # True\n",
    "print(hasattr(obj, 'age'))   # False\n"
   ]
  },
  {
   "cell_type": "code",
   "execution_count": 8,
   "id": "33012b63-8cbe-4761-bd33-5df3eee31f04",
   "metadata": {},
   "outputs": [
    {
     "name": "stdout",
     "output_type": "stream",
     "text": [
      "['__abs__', '__add__', '__and__', '__bool__', '__ceil__', '__class__', '__delattr__', '__dir__', '__divmod__', '__doc__', '__eq__', '__float__', '__floor__', '__floordiv__', '__format__', '__ge__', '__getattribute__', '__getnewargs__', '__gt__', '__hash__', '__index__', '__init__', '__init_subclass__', '__int__', '__invert__', '__le__', '__lshift__', '__lt__', '__mod__', '__mul__', '__ne__', '__neg__', '__new__', '__or__', '__pos__', '__pow__', '__radd__', '__rand__', '__rdivmod__', '__reduce__', '__reduce_ex__', '__repr__', '__rfloordiv__', '__rlshift__', '__rmod__', '__rmul__', '__ror__', '__round__', '__rpow__', '__rrshift__', '__rshift__', '__rsub__', '__rtruediv__', '__rxor__', '__setattr__', '__sizeof__', '__str__', '__sub__', '__subclasshook__', '__truediv__', '__trunc__', '__xor__', 'as_integer_ratio', 'bit_length', 'conjugate', 'denominator', 'from_bytes', 'imag', 'numerator', 'real', 'to_bytes']\n"
     ]
    }
   ],
   "source": [
    "# attributes and methods of an object\n",
    "x = 10\n",
    "print(dir(x))"
   ]
  },
  {
   "cell_type": "code",
   "execution_count": 9,
   "id": "92096f56-0147-4d81-bfad-6cdbc409c07e",
   "metadata": {},
   "outputs": [
    {
     "name": "stdout",
     "output_type": "stream",
     "text": [
      "<class 'int'>\n"
     ]
    }
   ],
   "source": [
    "# class of a variable:\n",
    "x = 10\n",
    "print(x.__class__)  # <class 'int'"
   ]
  },
  {
   "cell_type": "code",
   "execution_count": 10,
   "id": "8aa6fd84-8c64-4c26-af06-748124d1858e",
   "metadata": {},
   "outputs": [
    {
     "name": "stdout",
     "output_type": "stream",
     "text": [
      "math\n",
      "math\n",
      "__main__\n"
     ]
    }
   ],
   "source": [
    "# Get the module name of a variable python: \n",
    "import math\n",
    "print(math.__name__)  # Output: 'math'\n",
    "\n",
    "print(math.sin.__module__)  # Output: 'math'\n",
    "\n",
    "# Or, for a custom class:\n",
    "class MyClass:\n",
    "    pass\n",
    "\n",
    "obj = MyClass()\n",
    "print(obj.__class__.__module__)  # Output: '__main__' (if running in a script)"
   ]
  },
  {
   "cell_type": "code",
   "execution_count": 11,
   "id": "b4d8f6ea-ce01-4fbf-8a7f-524182f790a3",
   "metadata": {},
   "outputs": [
    {
     "name": "stdout",
     "output_type": "stream",
     "text": [
      "True\n"
     ]
    }
   ],
   "source": [
    "# Check if a variable is an instance of a specific class \n",
    "x = 10\n",
    "print(isinstance(x, int)) "
   ]
  },
  {
   "cell_type": "code",
   "execution_count": 12,
   "id": "671e7ddb-03d9-404c-b8f4-820939fa4bd9",
   "metadata": {},
   "outputs": [
    {
     "name": "stdout",
     "output_type": "stream",
     "text": [
      "True\n"
     ]
    }
   ],
   "source": [
    "# Check if a class is a subclass of another:\n",
    "class A:\n",
    "    pass\n",
    "class B(A):\n",
    "    pass\n",
    "print(issubclass(B, A)) "
   ]
  },
  {
   "cell_type": "markdown",
   "id": "55d0cda1-59f4-496d-a02c-1a3419df4c51",
   "metadata": {},
   "source": [
    "<div style=\"text-align: center; font-size: 22px; font-weight: bold;\">\n",
    "    Numbers in Python\n",
    "</div>\n",
    "\n",
    "Numbers in Python can be either integer, `int`, like `1`, `-23`, `1000` or float, `float`, like `1.0`, `-23.5`, `1000.99` or complex like `2j, -1.2+ 3j`."
   ]
  },
  {
   "cell_type": "code",
   "execution_count": 13,
   "id": "4a28c93f-290a-40df-ad21-011f43b368ef",
   "metadata": {},
   "outputs": [
    {
     "name": "stdout",
     "output_type": "stream",
     "text": [
      "int_var: <class 'int'>\n",
      "float_var: <class 'float'>\n",
      "complex_var: <class 'complex'>\n"
     ]
    }
   ],
   "source": [
    "int_var = -25\n",
    "\n",
    "float_var = 11.0\n",
    "\n",
    "complex_var = -1.2+ 3j\n",
    "\n",
    "print(\"int_var:\", type(int_var))\n",
    "print(\"float_var:\", type(float_var))\n",
    "print(\"complex_var:\", type(complex_var))"
   ]
  },
  {
   "cell_type": "markdown",
   "id": "7ca15b9c-0668-4ff2-bcca-f68be5e4bdfb",
   "metadata": {},
   "source": [
    "<div style=\"text-align: center; font-size: 22px; font-weight: bold;\">\n",
    "    Numeric operations\n",
    "</div>\n",
    "\n",
    "- Addition\n",
    "- Subtraction\n",
    "- Multiplication\n",
    "- Division\n",
    "- Modular\n",
    "- Powers"
   ]
  },
  {
   "cell_type": "code",
   "execution_count": 19,
   "id": "8821a9e8-b6fb-4d1c-9328-ac376773d5a9",
   "metadata": {},
   "outputs": [
    {
     "name": "stdout",
     "output_type": "stream",
     "text": [
      "Addition a1 + a2 = 17\n",
      "Subtraction a1 - a2 = 7\n",
      "Multiplication a1 * a2 = 60\n",
      "Division a1 / a2 = 2.4\n",
      "Modular a1 % a2 = 2\n",
      "Powers a1^a2 = 248832\n",
      "Square a1^2 = 144\n"
     ]
    }
   ],
   "source": [
    "a1 = 12\n",
    "a2 = 5\n",
    "a3 = 1.2\n",
    "a4 = 2j\n",
    "\n",
    "print('Addition a1 + a2 =', a1 + a2)\n",
    "\n",
    "print('Subtraction a1 - a2 =', a1 - a2)\n",
    "\n",
    "print('Multiplication a1 * a2 =', a1 * a2)\n",
    "\n",
    "# Division:  Even the division of two integers with remainder of 0 returns a float output.\n",
    "print('Division a1 / a2 =', a1 / a2)\n",
    "\n",
    "print('Modular a1 % a2 =', a1 % a2)\n",
    "\n",
    "print('Powers a1^a2 =', a1 ** a2)\n",
    "\n",
    "print('Square a1^2 =', a1 ** 2)"
   ]
  },
  {
   "cell_type": "markdown",
   "id": "73d255ce-975c-4262-b5da-991b86c1c645",
   "metadata": {},
   "source": [
    "<div style=\"text-align: center; font-size: 22px; font-weight: bold;\">\n",
    "    List in Python\n",
    "</div>\n",
    "List is a type of data structure that can keep more than one object."
   ]
  },
  {
   "cell_type": "code",
   "execution_count": null,
   "id": "cb418978-c4af-42c8-ba9c-e1c15781768e",
   "metadata": {},
   "outputs": [],
   "source": [
    "month_name = ['Jan', 'Feb', 'Mar', 'Apr', 'May', 'Jun']\n",
    "month_num = [1, 2, 3, 4, 5, 6, 7]\n",
    "\n",
    "print(type(month_name))\n",
    "print(month_name)\n",
    "\n",
    "print(month_name[2])\n",
    "print(month_name[:3])"
   ]
  },
  {
   "cell_type": "markdown",
   "id": "9ae3eeba-ae32-43a7-bb7f-c1648aed8237",
   "metadata": {},
   "source": [
    "### Concatanating List and Appending a list "
   ]
  },
  {
   "cell_type": "code",
   "execution_count": null,
   "id": "1aef2921-78df-41e8-af8c-32fb1902ecc8",
   "metadata": {},
   "outputs": [],
   "source": [
    "print(month_num + [30])\n",
    "\n",
    "# Appending a list\n",
    "month_num.append(30)\n",
    "print(month_num)"
   ]
  },
  {
   "cell_type": "markdown",
   "id": "8bfb48eb-04d9-40aa-b11a-072af0af873c",
   "metadata": {},
   "source": [
    "### Reverse a list"
   ]
  },
  {
   "cell_type": "code",
   "execution_count": null,
   "id": "63ad9b41-adf7-4108-936d-e2f892032104",
   "metadata": {},
   "outputs": [],
   "source": [
    "month_num.reverse()\n",
    "print(month_num)"
   ]
  },
  {
   "cell_type": "code",
   "execution_count": null,
   "id": "1c72143f-e7cc-4d9d-8aa3-e990907d10ec",
   "metadata": {},
   "outputs": [],
   "source": [
    "### Sort a list"
   ]
  },
  {
   "cell_type": "code",
   "execution_count": null,
   "id": "b2e9acfb-71d1-4a44-a679-b4203db89e93",
   "metadata": {},
   "outputs": [],
   "source": [
    "month_num.sort()\n",
    "month_num"
   ]
  },
  {
   "cell_type": "markdown",
   "id": "3424464b-5643-4e36-8f67-638ec10ff937",
   "metadata": {},
   "source": [
    "### Remove an element of a list"
   ]
  },
  {
   "cell_type": "code",
   "execution_count": null,
   "id": "2a7ca9d1-0ff5-403f-b8b2-c0365ad1a4a8",
   "metadata": {},
   "outputs": [],
   "source": [
    "# Remove an element of a list by its value\n",
    "a = month_num.remove(30)\n",
    "print(a)\n",
    "\n",
    "# Remove an element of a list by its index\n",
    "b = month_num.pop(0)\n",
    "print(b)"
   ]
  },
  {
   "cell_type": "markdown",
   "id": "4516b7bd-596f-4712-a006-10fc1440ed07",
   "metadata": {},
   "source": [
    "<div style=\"text-align: center; font-size: 22px; font-weight: bold;\">\n",
    "     Dictionary in Python\n",
    "</div>\n",
    "Dictionaries are used to store data values in `key:value` pairs."
   ]
  },
  {
   "cell_type": "code",
   "execution_count": null,
   "id": "72842319-eb41-49b6-8c6e-1e743bf66027",
   "metadata": {},
   "outputs": [],
   "source": [
    "iran = {\n",
    "    'Name': 'Iran',\n",
    "    'population': 83.99,\n",
    "    'area': 1.648\n",
    "}\n",
    "\n",
    "print(iran)\n",
    "\n",
    "# Get the keys of a dictionary\n",
    "iran.keys()\n",
    "\n",
    "# Get the value of each key in a dictionary\n",
    "iran.values()\n",
    "\n",
    "# Get the otems of a dictionary\n",
    "iran.items()"
   ]
  },
  {
   "cell_type": "code",
   "execution_count": null,
   "id": "cb44b47e-e631-4860-ae8d-9d779e9c8237",
   "metadata": {},
   "outputs": [],
   "source": [
    "countries = {\n",
    "    'Iran': {\n",
    "        'population': 83.99,\n",
    "        'area': 1.648e6\n",
    "        },\n",
    "    'Canada': {\n",
    "             'population': 38.01 ,\n",
    "             'area': 9.985e6\n",
    "             },\n",
    "    'Spain': {\n",
    "        'population': 47.35,\n",
    "        'area': 505.990\n",
    "    },\n",
    "    }"
   ]
  },
  {
   "cell_type": "code",
   "execution_count": null,
   "id": "9cb5f6ef-460d-40f4-a084-6aea1b84c365",
   "metadata": {},
   "outputs": [],
   "source": [
    "countries['Canada']\n",
    "# countries['Canada']['population']"
   ]
  },
  {
   "cell_type": "code",
   "execution_count": null,
   "id": "4b671a07-b430-4f7c-825e-01fdb033880c",
   "metadata": {},
   "outputs": [],
   "source": [
    "# What's the problem with following code:\n",
    "countries['Iran ']"
   ]
  },
  {
   "cell_type": "code",
   "execution_count": null,
   "id": "4130a04f-8a73-483f-9692-1c6498c53d80",
   "metadata": {},
   "outputs": [],
   "source": [
    "countries = {\n",
    "    'Iran': {  # Fixed key\n",
    "        'population': 83.99,\n",
    "        'area': 1.648e6\n",
    "    },\n",
    "    'Canada': {\n",
    "        'population': 38.01,\n",
    "        'area': 9.985e6\n",
    "    },\n",
    "    'Spain': {\n",
    "        'population': 47.35,\n",
    "        'area': 505.990\n",
    "    },\n",
    "}"
   ]
  },
  {
   "cell_type": "code",
   "execution_count": null,
   "id": "1a25f965-e77b-40fb-98a8-7d228451e717",
   "metadata": {},
   "outputs": [],
   "source": [
    "print(countries['Iran'])  # This will work now\n",
    "# print(countries['Iran '])  # Notice the space"
   ]
  },
  {
   "cell_type": "code",
   "execution_count": null,
   "id": "5eb08827-fa7a-463c-975c-ce5d849b5d32",
   "metadata": {},
   "outputs": [],
   "source": [
    "# To prevent similar issues, consider using .strip() when working with user inputs or predefined keys:\n",
    "print(countries.get('Iran'.strip(), \"Key not found\"))"
   ]
  },
  {
   "cell_type": "markdown",
   "id": "6b35d7ad-f56b-4828-937c-9e57c57e59ae",
   "metadata": {},
   "source": [
    "<div style=\"text-align: center; font-size: 22px; font-weight: bold;\">\n",
    "     Tuples in Python\n",
    "</div>\n",
    "Tuples are like list but they are immutable which means they can't be changed. \\\n",
    "# Tuples can't be changed after they're created."
   ]
  },
  {
   "cell_type": "code",
   "execution_count": null,
   "id": "90d277fa-9eeb-473d-a2e4-e549bdd0aacb",
   "metadata": {},
   "outputs": [],
   "source": [
    "var_tuple1 = (1, 'b')\n",
    "var_tuple1"
   ]
  },
  {
   "cell_type": "code",
   "execution_count": null,
   "id": "74354b07-ea8b-46b7-8f92-3c4d8b0a260b",
   "metadata": {},
   "outputs": [],
   "source": [
    "# Indexing\n",
    "var_tuple1[0]\n",
    "# var_tuple1[0] = 2"
   ]
  },
  {
   "cell_type": "markdown",
   "id": "50620611-aef5-4450-ab34-c3c0f60c1d9a",
   "metadata": {},
   "source": [
    "\n",
    "--------------------------------------------------------------------------------------------------------------------------------------------"
   ]
  },
  {
   "cell_type": "markdown",
   "id": "4fbccfd8-93d0-4d8f-8e4f-08ddc66fa123",
   "metadata": {},
   "source": [
    "<div style=\"\n",
    "    font-size:24px; \n",
    "    font-weight:bold; \n",
    "    color:#4CAF50; \n",
    "    text-align:center; \n",
    "    padding:20px;\n",
    "    border-radius:10px;\n",
    "    background-color:#f0f0f0;\">\n",
    "    🎉 Thank You for Using This Notebook! 🚀<br> \n",
    "    <span style=\"color:#ff5722;\">Happy Coding & Keep Learning! 💡</span>\n",
    "</div>"
   ]
  },
  {
   "cell_type": "code",
   "execution_count": null,
   "id": "02a1d6eb-51ba-405d-91a7-e3a7df7542b6",
   "metadata": {},
   "outputs": [],
   "source": []
  }
 ],
 "metadata": {
  "kernelspec": {
   "display_name": "Python 3 (ipykernel)",
   "language": "python",
   "name": "python3"
  },
  "language_info": {
   "codemirror_mode": {
    "name": "ipython",
    "version": 3
   },
   "file_extension": ".py",
   "mimetype": "text/x-python",
   "name": "python",
   "nbconvert_exporter": "python",
   "pygments_lexer": "ipython3",
   "version": "3.9.21"
  }
 },
 "nbformat": 4,
 "nbformat_minor": 5
}
