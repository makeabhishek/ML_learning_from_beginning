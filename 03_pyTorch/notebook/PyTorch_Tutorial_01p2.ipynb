{
 "cells": [
  {
   "cell_type": "markdown",
   "id": "60a35ab3-5cc4-49d8-b84a-7ff247605da0",
   "metadata": {},
   "source": [
    "## 1. Overview\n",
    "Pytorch was developed by __Facebook AI__. But now owned by _PyTorch_ foundation (like _Linux_)\n",
    "\n",
    "We should consider to learn\n",
    "1.\tBasics of _PyTorch_ tensors and __Computational Graphs__\n",
    "2.\tImplement deep learning models with custom data loaders and preprocessing techniques using PyTorch.\n",
    "3.\tUnderstand GPU and CPU utilization and PyTorch software infrastructure\n",
    "\n",
    "### Why to use PyTorch? It's advantages:\n",
    "1.\tEasy to use GPU computational power without going deep into hardware and memory.\n",
    "2.\t🚀 __Automatic differentiation (AD)__: \n",
    "    - Compiled computational graph.\n",
    "    -  We use AD, which is a modular way of computing automatic differentiation.\n",
    "    -  We do it either by compiling computational graph or we use dynamical computational graph.\n",
    "    -  PyTorch uses dynamical computational graph, which is faster and dynamically changing the graph instead of using single graph for everything.\n",
    "4.\tPyTorch Ecosystem: ```Tochvision, torchtext, torchaudio```. Parallel computing, model deployment.\n",
    "\n",
    "## 2. Tensor Basics\n",
    "- Tensors can run on GPU’s unlike numPy array. \\"
   ]
  },
  {
   "cell_type": "markdown",
   "id": "ca7d3106-69b6-49e0-9804-51df7794613b",
   "metadata": {},
   "source": [
    "### Tensor Initialization\n",
    "Before we write the code in PyTorch, lets look how can we initialise the tensors. Here I show four different ways to initilise tensor. Tensor can have any dimension i.e, 1D, 2D, nD. We can initilise the tensor in cpu or gpu, we can initlise based on data type, for example `float`, `long`\n",
    "- From Numpy: convert using `torch.Tensor` \n",
    "- Using `torch.Tensor()`. We can create a list or list of list or dictionary of list.\n",
    "- Using random\n",
    "- Using `zeros_like` and `ones_like`\n",
    "\n",
    "- Tensors are a core _PyTorch_ data type similar to a multidimensional array (like in _Numpy_). For example the image shown below can be represented in RGB channel with width and height. The tensore representaion of this image can be written as $[3, 224, 224]$.\n",
    "- Use for representing data in numerical way\n",
    "- Tensors can run on GPUs unlike Numpy's array\n",
    "\n",
    "<div style=\"text-align: center;\">\n",
    "    <img src=\"D:/Data/Wax/pygimli_data_abhishek/pytorch/images/01_tensor_representation.PNG\" alt=\"Tensor Representation\" width=\"600\">\n",
    "</div>\n",
    "\n",
    "**Help in Pytorch**\n",
    "Always good to check the arguments in a function\n",
    "\n",
    "`help(torch.randint)`\n"
   ]
  },
  {
   "cell_type": "code",
   "execution_count": null,
   "id": "79468758-1c67-4208-9d1f-a0f5f200e6c5",
   "metadata": {},
   "outputs": [],
   "source": []
  }
 ],
 "metadata": {
  "kernelspec": {
   "display_name": "Python 3 (ipykernel)",
   "language": "python",
   "name": "python3"
  },
  "language_info": {
   "codemirror_mode": {
    "name": "ipython",
    "version": 3
   },
   "file_extension": ".py",
   "mimetype": "text/x-python",
   "name": "python",
   "nbconvert_exporter": "python",
   "pygments_lexer": "ipython3",
   "version": "3.9.21"
  }
 },
 "nbformat": 4,
 "nbformat_minor": 5
}
