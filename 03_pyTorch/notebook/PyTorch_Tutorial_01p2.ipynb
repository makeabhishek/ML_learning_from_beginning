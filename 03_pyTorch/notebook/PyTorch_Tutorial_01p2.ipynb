{
 "cells": [
  {
   "cell_type": "markdown",
   "id": "0a88d5c8-e0b8-45a4-a51a-5c42059f826d",
   "metadata": {},
   "source": [
    "<div style=\"text-align: center; font-size: 32px; font-weight: bold;\">\n",
    "    Ways to Run Python\n",
    "</div>"
   ]
  },
  {
   "cell_type": "markdown",
   "id": "aef37bff-a9f6-47fd-8bdf-0efbe59f32f6",
   "metadata": {},
   "source": [
    "### Four Ways to Run Python"
   ]
  },
  {
   "cell_type": "markdown",
   "id": "f28e9194-a940-45c2-926b-2aab33f86e80",
   "metadata": {},
   "source": [
    "1. Command Line `$ python script.py`\n",
    "2. Python Interactive `>>>` enter `python` at the Terminal prompt. Enter `exit()` to end the Python interactive session.\n",
    "3. IPython: `In[1]:` enter `ipython` at the Terminal prompt. Enter `exit` to end the IPython interactive session.\n",
    "4. JupyterLab: `In[ ]:`\n",
    "5. IDE: example: Spyder, Pycharm"
   ]
  },
  {
   "cell_type": "markdown",
   "id": "8a4926b4-efce-4cf5-b5c2-8940c39498c1",
   "metadata": {},
   "source": [
    "### Navigating Directories\n",
    "When running from the command line, it is essential to know where you are and how to get to other places. \\\n",
    "In Windows OS: \\\n",
    "`cd` : Show the path of the current directory. \\\n",
    "`cd <name>` : Change the current directory to the one named <name>. \\\n",
    "`cd ..` : Change the current directory to the parent of the current directory (one level up). \\\n",
    "`dir` : Show the contents of the current directory."
   ]
  },
  {
   "cell_type": "markdown",
   "id": "bacb1e6d-9726-41cc-9488-0e2617fec646",
   "metadata": {},
   "source": [
    "### Notebook Modes and Shortcuts\n",
    "command line, hit `enter` to edit the code. Hit `esc` to come out of cell \\\n",
    "`a` : insert cell above \\\n",
    "`b` : insert cell below \\\n",
    "`d` : delete cell \\\n",
    "up and down arrow keys : select cell above and below \\\n",
    "`y` : to code \\\n",
    "`m` : markdown \\\n",
    "`h` : show keyboard shortcuts \\"
   ]
  },
  {
   "cell_type": "markdown",
   "id": "621097f1-9fc8-4801-82a2-9e96b5aaa94d",
   "metadata": {},
   "source": [
    "### Namespace Management\n",
    "Syntax start with `%` are called magic commands \\\n",
    "We can use `!` to execute  terminal commands in Jupyter notebook. Example `!pip install numpy`"
   ]
  },
  {
   "cell_type": "code",
   "execution_count": null,
   "id": "a3955221-c9f2-4b79-84eb-534f226ebc33",
   "metadata": {},
   "outputs": [],
   "source": [
    "a = 1\n",
    "b = [1,2,3]\n",
    "\n",
    "# List available variables\n",
    "%whos"
   ]
  },
  {
   "cell_type": "code",
   "execution_count": null,
   "id": "8c7923cd-cb79-4e94-a981-3d003bada65e",
   "metadata": {},
   "outputs": [],
   "source": [
    "# Remove all user defined variables.\n",
    "%reset\n",
    "%whos"
   ]
  },
  {
   "cell_type": "code",
   "execution_count": null,
   "id": "a18ca6bb-6f90-42cd-bdb4-775d39187edf",
   "metadata": {},
   "outputs": [],
   "source": [
    "# “del” command to remove individual variables.\n",
    "e = 1.114\n",
    "del e"
   ]
  },
  {
   "cell_type": "markdown",
   "id": "3916e015-e989-45d6-b896-fe0b1105a920",
   "metadata": {},
   "source": [
    "### Interactive Help - ?"
   ]
  },
  {
   "cell_type": "code",
   "execution_count": null,
   "id": "c7d35c89-a739-432c-88d7-c20885ccd49c",
   "metadata": {},
   "outputs": [],
   "source": [
    "# Follow a command with '?' to print its documentation.\n",
    "len?"
   ]
  },
  {
   "cell_type": "markdown",
   "id": "22f06d9d-91f8-475c-ad3a-064461a6b0c2",
   "metadata": {},
   "source": [
    "### Interactive Help with Source Code - ??"
   ]
  },
  {
   "cell_type": "code",
   "execution_count": null,
   "id": "2bcb5c75-253e-457c-8c1f-9617c3fde4ba",
   "metadata": {},
   "outputs": [],
   "source": [
    "# Follow a command with '??' to print its source code.\n",
    "import numpy\n",
    "numpy.squeeze??"
   ]
  },
  {
   "cell_type": "markdown",
   "id": "39d6c266-4d93-4daf-a591-3f545f742bed",
   "metadata": {},
   "source": [
    "### IPython History & Magic"
   ]
  },
  {
   "cell_type": "code",
   "execution_count": null,
   "id": "8b4afdb1-c0cc-43ba-bfdd-06c668fe99b6",
   "metadata": {},
   "outputs": [],
   "source": [
    "# list previous commands\n",
    "%history\n",
    "\n",
    "# save history\n",
    "\"\"\" %history –f history.log\"\"\""
   ]
  },
  {
   "cell_type": "code",
   "execution_count": null,
   "id": "376cf456-925c-4f50-8b2a-cf68288aba75",
   "metadata": {},
   "outputs": [],
   "source": [
    "# list of magic commands\n",
    "%lsmagic\n",
    "\n",
    "# quickref for magic commands\n",
    "%quickref\n",
    "\n",
    "# help for magic commands\n",
    "%magic"
   ]
  },
  {
   "cell_type": "markdown",
   "id": "50620611-aef5-4450-ab34-c3c0f60c1d9a",
   "metadata": {},
   "source": [
    "--------------------------------------------------------------------------------------------------------------------------------------------\n",
    "--------------------------------------------------------------------------------------------------------------------------------------------"
   ]
  },
  {
   "cell_type": "markdown",
   "id": "4fbccfd8-93d0-4d8f-8e4f-08ddc66fa123",
   "metadata": {},
   "source": [
    "<div style=\"\n",
    "    font-size:24px; \n",
    "    font-weight:bold; \n",
    "    color:#4CAF50; \n",
    "    text-align:center; \n",
    "    padding:20px;\n",
    "    border-radius:10px;\n",
    "    background-color:#f0f0f0;\">\n",
    "    🎉 Thank You for Using This Notebook! 🚀<br> \n",
    "    <span style=\"color:#ff5722;\">Happy Coding & Keep Learning! 💡</span>\n",
    "</div>"
   ]
  },
  {
   "cell_type": "code",
   "execution_count": null,
   "id": "02a1d6eb-51ba-405d-91a7-e3a7df7542b6",
   "metadata": {},
   "outputs": [],
   "source": []
  }
 ],
 "metadata": {
  "kernelspec": {
   "display_name": "Python 3 (ipykernel)",
   "language": "python",
   "name": "python3"
  },
  "language_info": {
   "codemirror_mode": {
    "name": "ipython",
    "version": 3
   },
   "file_extension": ".py",
   "mimetype": "text/x-python",
   "name": "python",
   "nbconvert_exporter": "python",
   "pygments_lexer": "ipython3",
   "version": "3.9.21"
  }
 },
 "nbformat": 4,
 "nbformat_minor": 5
}
