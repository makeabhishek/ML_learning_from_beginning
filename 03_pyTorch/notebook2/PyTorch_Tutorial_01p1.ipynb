{
 "cells": [
  {
   "cell_type": "markdown",
   "id": "0a88d5c8-e0b8-45a4-a51a-5c42059f826d",
   "metadata": {},
   "source": [
    "<div style=\"text-align: center; font-size: 32px; font-weight: bold;\">\n",
    "    Table of Contents for Tutorial\n",
    "</div>\n",
    "\n",
    "\n",
    "1. Pytorch Installation\n",
    "2. Basics of PyTorch (and Tensors)\\\n",
    "        2.1 Overview \\\n",
    "        2.2 Tensor Basics \\\n",
    "        2.3 Tensors Operations and Manipulation \\\n",
    "        2.4 Gradient Calculation and intro to Computational Graph (CG)\n",
    "4. Concepts in PyTorch \\\n",
    "        3.1 Autograd \\\n",
    "        3.2 computational graphs\n",
    "5. Backpropagation\n",
    "6. Gradient Descent With Autograd and Backpropagation \\\n",
    "        5.1 Understand linear Regression\n",
    "7. Training Pipeline: Model, Loss, and Optimizer\n",
    "8. Linear Regression\n",
    "9. Logistic Regression\n",
    "10. Dataset and DataLoader\n",
    "11. Dataset Transforms\n",
    "12. Softmax And Cross Entropy\n",
    "13. Activation Functions\n",
    "14. Feed-Forward Neural Net\n",
    "15. Convolutional Neural Net (CNN)\n",
    "16. Transfer Learning\n",
    "17. Tensorboard\n",
    "18. Save and Load Models\n"
   ]
  },
  {
   "cell_type": "markdown",
   "id": "2b24c44a-c461-48b2-8c0a-cec5144b493e",
   "metadata": {
    "jp-MarkdownHeadingCollapsed": true
   },
   "source": [
    "<div style=\"text-align: center; font-size: 32px; font-weight: bold;\">\n",
    "    1 PyTorch Tutorial 01: Installation\n",
    "</div>"
   ]
  },
  {
   "cell_type": "markdown",
   "id": "d0d98c61-f79d-4271-a2c0-9f6ebd8dbd63",
   "metadata": {},
   "source": [
    "## 1.1. Manual Installation\n",
    "\n",
    "Install Anaconda : https://docs.conda.io/projects/conda/en/23.1.x/user-guide/install/index.html\n",
    "\n",
    "Create conda environment: `conda create -n pytorch` or `conda create --name pytorch` \\\n",
    "Activate environment: `conda activate pytorch` \\\n",
    "Install pip for the environment: `conda install pip` \\\n",
    "Install PyTorch in the environment from pytorch website https://pytorch.org/get-started/locally/ \\\n",
    "Install other dependencies: \n",
    "`pip install notebook` \n",
    "`pip install numpy`\n",
    "`pip install matplotlib`\n",
    "\n",
    "Alternatively \\\n",
    "`conda create --name pytorch python=3.9 numpy pytorch torchvision torchaudio matplotlib scipy -c pytorch -c conda-forge` \\\n",
    "`conda activate pytorch`\n"
   ]
  },
  {
   "cell_type": "markdown",
   "id": "77bb0065-7c3b-4c19-817a-4d6d627247a6",
   "metadata": {},
   "source": [
    "check installed environments \\\n",
    "`conda env list`"
   ]
  },
  {
   "cell_type": "markdown",
   "id": "ea9ac943-a7ad-4f66-92bf-1852bdbf528f",
   "metadata": {},
   "source": [
    "Launch python shell to test PyTorch \\\n",
    "`python` \\\n",
    "`import pytorch` \\\n",
    "`import torch` \\\n",
    "`x=torch.rand(3)` \\\n",
    "`print(x)` \\\n",
    "`torch.__version__`\n",
    "\n",
    "Check if CUDA is available \n",
    "`torch.cuda.is_available()` \\\n",
    "\n",
    "Check all the packages installed in the evirenmont: `pip3 list`"
   ]
  },
  {
   "cell_type": "markdown",
   "id": "6edf6099-f8bf-4353-857c-2c376bbde7da",
   "metadata": {},
   "source": [
    "## 1.2. Install packages using a YAML file\n",
    "YAML (Markup Language) is a human-readable data format used for configuration files, data storage, and communication between applications. It is commonly used in Anaconda environments, Docker configurations, Kubernetes, and CI/CD pipelines.\n",
    "\n",
    "To create a new Conda environment named `pytorch` and install `numpy, pytorch, matplotlib, and scipy`, follow these steps:"
   ]
  },
  {
   "cell_type": "markdown",
   "id": "2dce5aca-ba34-466a-9171-e3b9addbd9b1",
   "metadata": {},
   "source": [
    "Create a file named `pytorch_env.yaml` with the following contents:\n",
    "```\n",
    "name: pytorch\n",
    "channels:\n",
    "  - defaults\n",
    "  - conda-forge\n",
    "  - pytorch\n",
    "dependencies:\n",
    "  - python=3.9\n",
    "  - numpy\n",
    "  - pytorch\n",
    "  - torchvision\n",
    "  - torchaudio\n",
    "  - matplotlib\n",
    "  - scipy\n",
    "```\n",
    "\n",
    "Create and Activate the Conda Environment\n",
    "1. Open Anaconda Prompt (or any terminal where Conda is available).\n",
    "2. Navigate to the directory where you saved pytorch_env.yaml.\n",
    "3. Run the following command to create the environment:\n",
    "\n",
    "`conda env create -f pytorch_env.yaml` \\\n",
    "Activate the environment: \\\n",
    "`conda activate pytorch` \\\n",
    "Verify Installation \\\n",
    "`python -c \"import numpy; import torch; import matplotlib; import scipy; print('All packages installed successfully!')\"` \\\n",
    "If everything is installed correctly, you should see: All packages installed successfully!"
   ]
  },
  {
   "cell_type": "markdown",
   "id": "387e1746-d79c-44c8-b670-7af65fd4c391",
   "metadata": {},
   "source": [
    "## 1.3.  Use Python to generate the `pytorch_env.yaml`\n",
    "\n",
    "```\n",
    "import yaml\n",
    "\n",
    "# Define the environment configuration\n",
    "env_config = {\n",
    "    \"name\": \"pytorch\",\n",
    "    \"channels\": [\"defaults\", \"conda-forge\", \"pytorch\"],\n",
    "    \"dependencies\": [\n",
    "        \"python=3.9\",\n",
    "        \"numpy\",\n",
    "        \"pytorch\",\n",
    "        \"torchvision\",\n",
    "        \"torchaudio\",\n",
    "        \"matplotlib\",\n",
    "        \"scipy\"\n",
    "    ]\n",
    "}\n",
    "\n",
    "# Write to a YAML file\n",
    "yaml_filename = \"pytorch_env.yaml\"\n",
    "\n",
    "with open(yaml_filename, \"w\") as file:\n",
    "    yaml.dump(env_config, file, default_flow_style=False)\n",
    "\n",
    "print(f\"YAML file '{yaml_filename}' created successfully!\")\n",
    "```\n",
    "\n",
    "### How to Use This Script: Copy and paste the code into a Python script (create_yaml.py).\n",
    "Run the script using: \\\n",
    "`python create_yaml.py` \\\n",
    "It will generate a `pytorch_env.yaml` file in the same directory. You can then create the environment using: \\\n",
    "`conda env create -f pytorch_env.yaml`"
   ]
  },
  {
   "cell_type": "markdown",
   "id": "cb7afe56-8aa6-4d50-8530-f43c16a60f53",
   "metadata": {},
   "source": [
    "<div style=\"text-align: center; font-size: 32px; font-weight: bold;\">\n",
    "    Ways to Run Python and some terminal commands\n",
    "</div>\n",
    "\n",
    "### Four Ways to Run Python\n",
    "1. Command Line `$ python script.py`\n",
    "2. Python Interactive `>>>` enter `python` at the Terminal prompt. Enter `exit()` to end the Python interactive session.\n",
    "3. IPython: `In[1]:` enter `ipython` at the Terminal prompt. Enter `exit` to end the IPython interactive session.\n",
    "4. JupyterLab: `In[ ]:`\n",
    "5. IDE: example: Spyder, Pycharm\n",
    "\n",
    "### Navigating Directories\n",
    "When running from the command line, it is essential to know where you are and how to get to other places. \\\n",
    "In Windows OS: \\\n",
    "`cd` : Show the path of the current directory. \\\n",
    "`cd <name>` : Change the current directory to the one named <name>. \\\n",
    "`cd ..` : Change the current directory to the parent of the current directory (one level up). \\\n",
    "`dir` : Show the contents of the current directory.\n",
    "\n",
    "### Notebook Modes and Shortcuts\n",
    "command line, hit `enter` to edit the code. Hit `esc` to come out of cell \\\n",
    "`a` : insert cell above \\\n",
    "`b` : insert cell below \\\n",
    "`d` : delete cell \\\n",
    "up and down arrow keys : select cell above and below \\\n",
    "`y` : to code \\\n",
    "`m` : markdown \\\n",
    "`h` : show keyboard shortcuts \\\n",
    "\n",
    "### Namespace Management\n",
    "Syntax start with `%` are called magic commands \\\n",
    "We can use `!` to execute  terminal commands in Jupyter notebook. Example `!pip install numpy`"
   ]
  },
  {
   "cell_type": "code",
   "execution_count": null,
   "id": "ec76931e-90bb-4b4e-bba3-8280c2f080ed",
   "metadata": {},
   "outputs": [],
   "source": [
    "a = 1\n",
    "b = [1,2,3]\n",
    "\n",
    "# List available variables\n",
    "%whos"
   ]
  },
  {
   "cell_type": "code",
   "execution_count": null,
   "id": "f391e82b-d0ee-431e-a7f4-23bfe85bc901",
   "metadata": {},
   "outputs": [],
   "source": [
    "# Remove all user defined variables.\n",
    "%reset\n",
    "%whos\n",
    "\n",
    "# “del” command to remove individual variables.\n",
    "e = 1.114\n",
    "del e"
   ]
  },
  {
   "cell_type": "markdown",
   "id": "ac58966a-0a0a-4944-9405-81f121dd3157",
   "metadata": {},
   "source": [
    "### Interactive Help with Source Code - ??"
   ]
  },
  {
   "cell_type": "code",
   "execution_count": null,
   "id": "0b2c65a5-2ff5-4616-991d-abab8f5b49c5",
   "metadata": {},
   "outputs": [],
   "source": [
    "# Follow a command with '?' to print its documentation.\n",
    "len?"
   ]
  },
  {
   "cell_type": "code",
   "execution_count": null,
   "id": "dc4e26f5-0607-4885-9409-f0dc7f63fc20",
   "metadata": {},
   "outputs": [],
   "source": [
    "# Follow a command with '??' to print its source code.\n",
    "import numpy\n",
    "numpy.squeeze??"
   ]
  },
  {
   "cell_type": "markdown",
   "id": "2b67a08c-e2f4-48bf-9d68-18c037b443eb",
   "metadata": {},
   "source": [
    "### IPython History & Magic"
   ]
  },
  {
   "cell_type": "code",
   "execution_count": null,
   "id": "b9922ae2-4a1d-4faa-9926-8a15fc3dabab",
   "metadata": {},
   "outputs": [],
   "source": [
    "# list previous commands\n",
    "%history\n",
    "\n",
    "# save history\n",
    "\"\"\" %history –f history.log\"\"\""
   ]
  },
  {
   "cell_type": "code",
   "execution_count": null,
   "id": "62b5cd4d-ddd9-470e-926f-60314d3b056c",
   "metadata": {},
   "outputs": [],
   "source": [
    "# list of magic commands\n",
    "%lsmagic\n",
    "\n",
    "# quickref for magic commands\n",
    "%quickref\n",
    "\n",
    "# help for magic commands\n",
    "%magic"
   ]
  },
  {
   "cell_type": "markdown",
   "id": "50620611-aef5-4450-ab34-c3c0f60c1d9a",
   "metadata": {},
   "source": [
    "--------------------------------------------------------------------------------------------------------------------------------------------\n",
    "--------------------------------------------------------------------------------------------------------------------------------------------"
   ]
  },
  {
   "cell_type": "markdown",
   "id": "4fbccfd8-93d0-4d8f-8e4f-08ddc66fa123",
   "metadata": {},
   "source": [
    "<div style=\"\n",
    "    font-size:24px; \n",
    "    font-weight:bold; \n",
    "    color:#4CAF50; \n",
    "    text-align:center; \n",
    "    padding:20px;\n",
    "    border-radius:10px;\n",
    "    background-color:#f0f0f0;\">\n",
    "    🎉 Thank You for Using This Notebook! 🚀<br> \n",
    "    <span style=\"color:#ff5722;\">Happy Coding & Keep Learning! 💡</span>\n",
    "</div>"
   ]
  },
  {
   "cell_type": "code",
   "execution_count": null,
   "id": "02a1d6eb-51ba-405d-91a7-e3a7df7542b6",
   "metadata": {},
   "outputs": [],
   "source": []
  }
 ],
 "metadata": {
  "kernelspec": {
   "display_name": "Python 3 (ipykernel)",
   "language": "python",
   "name": "python3"
  },
  "language_info": {
   "codemirror_mode": {
    "name": "ipython",
    "version": 3
   },
   "file_extension": ".py",
   "mimetype": "text/x-python",
   "name": "python",
   "nbconvert_exporter": "python",
   "pygments_lexer": "ipython3",
   "version": "3.9.21"
  }
 },
 "nbformat": 4,
 "nbformat_minor": 5
}
