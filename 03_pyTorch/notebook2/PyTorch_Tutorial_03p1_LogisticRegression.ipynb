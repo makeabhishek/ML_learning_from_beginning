{
 "cells": [
  {
   "cell_type": "markdown",
   "id": "cea8b412-12bf-47eb-9b17-05ddb38a61ac",
   "metadata": {},
   "source": [
    "# Logistic/Softmax regression and Cross Entropy Loss with PyTorch\n",
    "\n",
    "https://www.youtube.com/watch?v=1fXB0Lc9RMI&list=PLLeO8f6PhlKb_FAC7qxOBtxT9-8EPDAqk&index=4"
   ]
  },
  {
   "cell_type": "code",
   "execution_count": null,
   "id": "a57657f0-bf42-4bf4-a5f7-05ec67a25d41",
   "metadata": {},
   "outputs": [],
   "source": []
  }
 ],
 "metadata": {
  "kernelspec": {
   "display_name": "Python 3 (ipykernel)",
   "language": "python",
   "name": "python3"
  },
  "language_info": {
   "codemirror_mode": {
    "name": "ipython",
    "version": 3
   },
   "file_extension": ".py",
   "mimetype": "text/x-python",
   "name": "python",
   "nbconvert_exporter": "python",
   "pygments_lexer": "ipython3",
   "version": "3.9.21"
  }
 },
 "nbformat": 4,
 "nbformat_minor": 5
}
