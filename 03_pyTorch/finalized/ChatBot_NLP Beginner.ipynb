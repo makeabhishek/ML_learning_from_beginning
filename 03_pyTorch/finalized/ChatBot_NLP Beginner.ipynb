{
 "cells": [
  {
   "cell_type": "markdown",
   "id": "f123c8f0-0f52-4b6e-ad3b-b3ebd634f3bc",
   "metadata": {},
   "source": [
    "Build a simple chatbot using PyTorch and Deep Learning. Basic Natural Language Processing (NLP) techniques.\n",
    "\n",
    "1) Theory + NLP concepts (Stemming, Tokenization, bag of words)\n",
    "2) Create training data\n",
    "3) PyTorch model and training\n",
    "4) Save/load model and implement the chat"
   ]
  },
  {
   "cell_type": "code",
   "execution_count": null,
   "id": "85ce652c-1596-48a0-8dcd-6e282f45dd56",
   "metadata": {},
   "outputs": [],
   "source": []
  }
 ],
 "metadata": {
  "kernelspec": {
   "display_name": "Python 3 (ipykernel)",
   "language": "python",
   "name": "python3"
  },
  "language_info": {
   "codemirror_mode": {
    "name": "ipython",
    "version": 3
   },
   "file_extension": ".py",
   "mimetype": "text/x-python",
   "name": "python",
   "nbconvert_exporter": "python",
   "pygments_lexer": "ipython3",
   "version": "3.13.2"
  }
 },
 "nbformat": 4,
 "nbformat_minor": 5
}
