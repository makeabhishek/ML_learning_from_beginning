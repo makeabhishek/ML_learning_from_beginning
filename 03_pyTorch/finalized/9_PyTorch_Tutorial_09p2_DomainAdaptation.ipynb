{
 "cells": [
  {
   "cell_type": "markdown",
   "id": "8e119ab7-e951-42a9-8b98-6c6e22031850",
   "metadata": {},
   "source": [
    "https://www.youtube.com/watch?v=U4ab267wl6U&list=PLM0a6Z788YAZdVDOpK2rAkvLTkcydhENy&index=5"
   ]
  },
  {
   "cell_type": "code",
   "execution_count": null,
   "id": "d9fedd70-1b5c-44ff-86c7-34bed897dab7",
   "metadata": {},
   "outputs": [],
   "source": []
  }
 ],
 "metadata": {
  "kernelspec": {
   "display_name": "Python 3 (ipykernel)",
   "language": "python",
   "name": "python3"
  },
  "language_info": {
   "codemirror_mode": {
    "name": "ipython",
    "version": 3
   },
   "file_extension": ".py",
   "mimetype": "text/x-python",
   "name": "python",
   "nbconvert_exporter": "python",
   "pygments_lexer": "ipython3",
   "version": "3.13.2"
  }
 },
 "nbformat": 4,
 "nbformat_minor": 5
}
