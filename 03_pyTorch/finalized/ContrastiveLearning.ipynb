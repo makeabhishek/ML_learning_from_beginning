{
 "cells": [
  {
   "cell_type": "markdown",
   "id": "1515c319-2863-4abe-841e-fef5d0e91b77",
   "metadata": {},
   "source": [
    "Two small things I realized when editing this video\n",
    "- SimCLR uses two separate augmented views as positive samples \n",
    "- Many frameworks have separate projection heads on the learned representations\n",
    "- which transforms them additionally for the contrastive loss"
   ]
  }
 ],
 "metadata": {
  "kernelspec": {
   "display_name": "Python 3 (ipykernel)",
   "language": "python",
   "name": "python3"
  },
  "language_info": {
   "codemirror_mode": {
    "name": "ipython",
    "version": 3
   },
   "file_extension": ".py",
   "mimetype": "text/x-python",
   "name": "python",
   "nbconvert_exporter": "python",
   "pygments_lexer": "ipython3",
   "version": "3.13.2"
  }
 },
 "nbformat": 4,
 "nbformat_minor": 5
}
