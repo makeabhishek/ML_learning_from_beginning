{
 "cells": [
  {
   "cell_type": "markdown",
   "id": "704bebd8-c9ea-48a3-ab9b-c78c02a64b1a",
   "metadata": {},
   "source": [
    "https://www.youtube.com/watch?v=w0OZ5iHsamk&list=PLM0a6Z788YAZdVDOpK2rAkvLTkcydhENy&index=6"
   ]
  },
  {
   "cell_type": "code",
   "execution_count": null,
   "id": "9f4c2742-17e4-45c0-a914-12816e928e9d",
   "metadata": {},
   "outputs": [],
   "source": []
  }
 ],
 "metadata": {
  "kernelspec": {
   "display_name": "Python 3 (ipykernel)",
   "language": "python",
   "name": "python3"
  },
  "language_info": {
   "codemirror_mode": {
    "name": "ipython",
    "version": 3
   },
   "file_extension": ".py",
   "mimetype": "text/x-python",
   "name": "python",
   "nbconvert_exporter": "python",
   "pygments_lexer": "ipython3",
   "version": "3.13.2"
  }
 },
 "nbformat": 4,
 "nbformat_minor": 5
}
