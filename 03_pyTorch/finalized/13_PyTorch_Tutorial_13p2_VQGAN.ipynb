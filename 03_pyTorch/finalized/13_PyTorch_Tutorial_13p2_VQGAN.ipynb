{
 "cells": [
  {
   "cell_type": "markdown",
   "id": "eff24168-800a-4403-9cc6-fee7c112d009",
   "metadata": {},
   "source": [
    "https://www.youtube.com/watch?v=_Br5WRwUz_U&list=PLMgmca6r86AgMyKYnxWkb5WhK_QssFvWT"
   ]
  },
  {
   "cell_type": "code",
   "execution_count": null,
   "id": "e77c0b4c-702d-40da-b7f3-17a05160a298",
   "metadata": {},
   "outputs": [],
   "source": []
  }
 ],
 "metadata": {
  "kernelspec": {
   "display_name": "Python 3 (ipykernel)",
   "language": "python",
   "name": "python3"
  },
  "language_info": {
   "codemirror_mode": {
    "name": "ipython",
    "version": 3
   },
   "file_extension": ".py",
   "mimetype": "text/x-python",
   "name": "python",
   "nbconvert_exporter": "python",
   "pygments_lexer": "ipython3",
   "version": "3.13.2"
  }
 },
 "nbformat": 4,
 "nbformat_minor": 5
}
