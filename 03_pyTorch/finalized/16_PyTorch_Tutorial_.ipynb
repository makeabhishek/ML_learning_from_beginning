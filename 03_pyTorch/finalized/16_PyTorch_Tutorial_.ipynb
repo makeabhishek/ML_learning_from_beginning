{
 "cells": [
  {
   "cell_type": "markdown",
   "id": "6ef9c11b-fb84-4d27-9f10-ab13a98c9fe3",
   "metadata": {},
   "source": [
    "https://www.youtube.com/watch?v=ELE2_Mftqoc\n",
    "Reinforcement learning is an area of machine learning that involves taking right action to maximize reward in a particular situation. In this full tutorial course, you will get a solid foundation in reinforcement learning core topics.\n",
    "\n",
    "The course covers Q learning, SARSA, double Q learning, deep Q learning, and policy gradient methods. These algorithms are employed in a number of environments from the open AI gym, including space invaders, breakout, and others. The deep learning portion uses Tensorflow and PyTorch.\n",
    "\n",
    "The course begins with more modern algorithms, such as deep q learning and policy gradient methods, and demonstrates the power of reinforcement learning.\n",
    "\n",
    "Then the course teaches some of the fundamental concepts that power all reinforcement learning algorithms. These are illustrated by coding up some algorithms that predate deep learning, but are still foundational to the cutting edge. These are studied in some of the more traditional environments from the OpenAI gym, like the cart pole problem.\n",
    "\n",
    "## Deep Q-leanring\n",
    "The basic idea is that the agent uses a convolutional neural network to turn the set of images from the game into a set of feature vectors those are fed into a fully connected layer to determine the value of each of the actions given some set of states in this case a set of states is just going to be a stack of frames because we want the agent to have a sense of motion so as we go along we'll be stacking up frames passing them into our network and asking the network hey what is the value  of either of the actions move left move right or fire a ball we're going to split this into two classes one of which will house the deep q networks and the other will house the agent and in the agent class we're going to have other stuff that we'll get to later let's go ahead and start with our imports we'll need os to handle model saving\n",
    "\n",
    "### Intro to Atari Game OpenAI Gym Environment - Reinforcement Learning for Computer Games"
   ]
  }
 ],
 "metadata": {
  "kernelspec": {
   "display_name": "Python 3 (ipykernel)",
   "language": "python",
   "name": "python3"
  },
  "language_info": {
   "codemirror_mode": {
    "name": "ipython",
    "version": 3
   },
   "file_extension": ".py",
   "mimetype": "text/x-python",
   "name": "python",
   "nbconvert_exporter": "python",
   "pygments_lexer": "ipython3",
   "version": "3.13.2"
  }
 },
 "nbformat": 4,
 "nbformat_minor": 5
}
