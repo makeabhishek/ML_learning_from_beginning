{
 "cells": [
  {
   "cell_type": "markdown",
   "id": "83cb68d3-004d-4047-85fe-fb311082dea0",
   "metadata": {},
   "source": [
    "# Simple NN\n",
    "\n",
    "## Build the basci NN to clasify IRIS flower\n",
    "\n",
    "- We have input layer, output laeyer and hidden layers. \n",
    "- Each layer has different neurons.\n",
    "- Each neuron is connected to other neurons in other layer. It s called fully connected layer.\n",
    "- So we are doing some calcualtion and movinf __forward__ after each layer.\n",
    "- Finally it mocve to output layer\n",
    "\n",
    "Task: create a model to classify IRIS flowers. It has three class Iris Setosa, Iris Versicolor, Iris Virginica\n",
    "\n",
    "Dataset: IRIS dataset https://archive.ics.uci.edu/dataset/53/iris\n",
    "\n",
    "| S.No           | Variable Name  | Role  | Type       | Description | Units | Missing Values |\n",
    "|--------------- |---------------|--------|------------|-------------|-------|---------------|\n",
    "|  F1   | sepal length  | Feature | Continuous |             | cm    | no            |\n",
    "|  F2   | sepal width   | Feature | Continuous |             | cm    | no            |\n",
    "|  F3   | petal length  | Feature | Continuous |             | cm    | no            |\n",
    "|  F4   | petal width   | Feature | Continuous |             | cm    | no            |\n",
    "|  C   | class         | Target  | Categorical |  class of iris plant: Iris Setosa, Iris Versicolour, or Iris Virginica |    |  no   |\n",
    "\n",
    "Create a NN model with two hidden layers (h1,h2).  IRIS dataset has 4 features so our input layer will have size 4. Output will be Iris flower class whcih is 3 (Iris Setosa, Iris Versicolour, or Iris Virginica)\n",
    "\n",
    "<center><img src='./images/iris_NN.PNG' width=600px></center> \n",
    "\n",
    "Ref: https://playground.tensorflow.org/#activation=tanh&batchSize=10&dataset=circle&regDataset=reg-plane&learningRate=0.03&regularizationRate=0&noise=0&networkShape=4,2&seed=0.89586&showTestData=false&discretize=false&percTrainData=50&x=true&y=true&xTimesY=false&xSquared=false&ySquared=false&cosX=false&sinX=false&cosY=false&sinY=false&collectStats=false&problem=classification&initZero=false&hideText=false"
   ]
  },
  {
   "cell_type": "markdown",
   "id": "b0377c91-6626-44e8-a534-bb2fd1eaea83",
   "metadata": {},
   "source": [
    "# How to create NN in PyToerch. \n",
    "Steps\n",
    "\n",
    "1. \n",
    "2. \n",
    "\n",
    "\n",
    "\n",
    "\n"
   ]
  },
  {
   "cell_type": "markdown",
   "id": "fcf976a4-47c0-4747-8d32-7239d5d66247",
   "metadata": {},
   "source": [
    "## 1. Create model"
   ]
  },
  {
   "cell_type": "code",
   "execution_count": null,
   "id": "f37d9d5f-292f-465a-bb94-494e6dc08d3d",
   "metadata": {},
   "outputs": [],
   "source": [
    "import torch\n",
    "import torch.nn as nn\n",
    "import torch.nn.functional as F # help to move data forward\n",
    "\n",
    "import matplotlib.pyplot as plt\n",
    "%matplotlib inline\n",
    "\n",
    "import pandas as pd"
   ]
  },
  {
   "cell_type": "code",
   "execution_count": null,
   "id": "da3a0d72-81d1-415d-afa5-ca928d8751b3",
   "metadata": {},
   "outputs": [],
   "source": [
    "# Create a model class that inherits `nn.Module`\n",
    "# We will use calss based OOP in PyTorch. We will create a class and instantiate the class\n",
    "\n",
    "# Create a NN model, which has input layer (4 features), two hidden layer with neurons and Output layer with 3 class.\n",
    "class Model(nn.Module): # creating a class whcih inherites `nn.Module`\n",
    "    # Create each layer of the NN model that you want to build. Add those in the model individualy\n",
    "    # Input Layer (4 features of the flower) --> \n",
    "    # Hidden Layer1 (# of neurons) --> H2 (n) --> \n",
    "    # output (3 classes of IRIS flower)\n",
    "\n",
    "    # define a method or function for to create NN layers.\n",
    "    def __init__(self, in_feateures=4, h1=8, h2=9, out_features=3):\n",
    "        super().__init__() # instantiate our nn.Module\n",
    "        # setup fully connected hidden layers \n",
    "        self.fc1 = nn.Linear(in_feateures, h1)\n",
    "        self.fc2 = nn.Linear(h1, h2)\n",
    "        self.out =nn.Linear(h2,out_features)\n",
    "\n",
    "    # Define a function whcih moves everython forward\n",
    "    # This will be used in training and testing the data.\n",
    "    def forward(self, x):  # x is the input data\n",
    "        x = F.relu(self.fc1(x))\n",
    "        x = F.relu(self.fc2(x))\n",
    "        x = self.out(x)\n",
    "\n",
    "        return x\n",
    "    "
   ]
  },
  {
   "cell_type": "code",
   "execution_count": null,
   "id": "9ed74bb7-5280-4a92-8ef9-67bf9b97822b",
   "metadata": {},
   "outputs": [],
   "source": [
    "# intiialise with seed for randomization\n",
    "torch.manual_seed(41)\n",
    "\n",
    "# Create an instance of model and call it\n",
    "model = Model()"
   ]
  },
  {
   "cell_type": "markdown",
   "id": "14c9ea10-b016-4c09-9e7f-e75c17468898",
   "metadata": {},
   "source": [
    "## 2. Load Data: train, test Split"
   ]
  },
  {
   "cell_type": "code",
   "execution_count": null,
   "id": "4c21b2d5-91ec-4456-af2c-65a512bbde8b",
   "metadata": {},
   "outputs": [],
   "source": [
    "# Load Data and Train/Test Neural Network Model\n",
    "url = 'https://gist.githubusercontent.com/curran/a08a1080b88344b0c8a7/raw/0e7a9b0a5d22642a06d3d5b9bcbad9890c8ee534/iris.csv'\n",
    "# create adataframe\n",
    "my_df = pd.read_csv(url)\n",
    "\n",
    "my_df\n",
    "my_df.head()\n",
    "my_df.tail()"
   ]
  },
  {
   "cell_type": "code",
   "execution_count": null,
   "id": "823d2947-5401-4dff-89b4-d1d208ef3337",
   "metadata": {},
   "outputs": [],
   "source": [
    "# Data preprocessing.\n",
    "# We change the class / variety the last column of data in to numbers instead of name (string).\n",
    "my_df['variety'] = my_df['variety'].replace('Setosa', 0.0)\n",
    "my_df['variety'] = my_df['variety'].replace('Versicolor', 1.0)\n",
    "my_df['variety'] = my_df['variety'].replace('Virginica', 2.0)\n",
    "\n",
    "my_df.head()"
   ]
  },
  {
   "cell_type": "code",
   "execution_count": null,
   "id": "834fa2ee-5d00-4d5f-83a2-9012ef266baa",
   "metadata": {},
   "outputs": [],
   "source": [
    "# Arrange Train and test data. Set X: feature, y: output (class)\n",
    "\n",
    "X = my_df.drop('variety', axis=1) # delete the last column and just keep features for matrix X\n",
    "y = my_df['variety'] # keep last column for y (output/ class) or labels\n",
    "\n",
    "# Convert dataframe to numpy array\n",
    "X = X.values\n",
    "y = y.values"
   ]
  },
  {
   "cell_type": "code",
   "execution_count": null,
   "id": "7afd7eeb-9aa1-4f5d-b278-dd502ab44ddc",
   "metadata": {},
   "outputs": [],
   "source": [
    "# Do train, test , split using sklearn. Traini size = 80%, test size = 20%\n",
    "from sklearn.model_selection import train_test_split\n",
    "\n",
    "X_train, X_test, y_train, y_test = train_test_split(X, y, test_size=0.2, random_state=41)\n",
    "\n",
    "# convert X feateures in to tensor\n",
    "X_train = torch.FloatTesnor(X_train)\n",
    "X_test = torch.FloatTesnor(X_test)\n",
    "\n",
    "# convert y labels in to tensors long tensor, i.e 64 bit integers.\n",
    "y_train = torch.LongTesnor(y_train)\n",
    "y_test = torch.LongTesnor(y_test)"
   ]
  },
  {
   "cell_type": "markdown",
   "id": "aff44c0d-3079-44a2-923f-d3dd288d0b2e",
   "metadata": {},
   "source": [
    "##  3. Define the Optimization routine for running NN in loop."
   ]
  },
  {
   "cell_type": "code",
   "execution_count": null,
   "id": "465be687-c33d-43a7-9210-08b57c7b67ea",
   "metadata": {},
   "outputs": [],
   "source": [
    "# Loss and optimizer\n",
    "# Set the criterion odf model to measure the error, how far off the prediction are from the data\n",
    "criterion = nn.CrossEntropyLoss()\n",
    "\n",
    "# Choose Adam optimizer\n",
    "optimizer = torch.optim.Adam(model.parameters(), lr=0.01) # model parameters are different layers . \n",
    "# PyTorch will automatically grab them from the model\n",
    "\n",
    "# print model parametres\n",
    "model.parameters"
   ]
  },
  {
   "cell_type": "code",
   "execution_count": null,
   "id": "cbe3af11-476e-4cb4-8870-a8d8f4114fa3",
   "metadata": {},
   "outputs": [],
   "source": [
    "# train the model\n",
    "# Epochs? (one run thru all training data in our network)\n",
    "\n",
    "epochs = 100\n",
    "losses = [] # keep track of loss\n",
    "\n",
    "for i in range(epochs):\n",
    "    # Go forward and get prediction\n",
    "    y_pred = model.forward(X_train) # Get predicted  results\n",
    "\n",
    "    # Measure the loss/error, gonna be hight at first\n",
    "    loss = criterion(y_pred, y_train) # predicted value vs the y_train\n",
    "\n",
    "    # Keep track of losses\n",
    "    losses.append(loss.detach().numpy())\n",
    "\n",
    "    # print every 10 epoch\n",
    "    if i % 10 == 0:\n",
    "        print(f'Epoch: {i} and loss: {loss}')\n",
    "\n",
    "    # Do backpropagation: take the error rate of forwrad propagation and feed it back thru the netowrk to fine tune the weights\n",
    "    optimizer.zero_grad()\n",
    "    loss.backward()\n",
    "    optimizer.step()\n",
    "\n",
    "plt.plot(epocs, losses)\n",
    "plt.xlabel('Epoch')\n",
    "plt.ylabel('Loss/Error')"
   ]
  },
  {
   "cell_type": "markdown",
   "id": "de59bc74-51d0-4810-830e-0e4f83abbe4e",
   "metadata": {},
   "source": [
    "## 4. Evaluate model on Test Data Set On Network\n",
    "Validate model on test set"
   ]
  },
  {
   "cell_type": "code",
   "execution_count": null,
   "id": "a38e7200-7e19-49a9-a78b-869ba95339ec",
   "metadata": {},
   "outputs": [],
   "source": [
    "\n",
    "with torch.no_grad():  # Basically turn off back-propagation\n",
    "    # this time for testing model we are giving X_test data not X_train. \n",
    "    # X_test are the featers from our test set, y_eval will be predictions\n",
    "    y_eval = model.forward(X_test) \n",
    "    loss = criterion(y_eval, y_test) # find loss or error\n",
    "\n",
    "\n",
    "loss # this loss is not acceptable. Above was trainign loss and this is testing loss"
   ]
  },
  {
   "cell_type": "code",
   "execution_count": null,
   "id": "7fd651af-dc02-42e2-b6af-3acf9506cd1b",
   "metadata": {},
   "outputs": [],
   "source": [
    "correct =0 \n",
    "with torch.no_grad():\n",
    "    for i, data in enumerate(X_test):\n",
    "        y_val = model.forward(data) \n",
    "\n",
    "        if y_test[i] ==0:\n",
    "            x = \"Setosa\"\n",
    "        elif y_test[i]==1:\n",
    "            x = 'Versicolor'\n",
    "        elif y_test[i]==2:\n",
    "            x = 'Virginica'\n",
    "        \n",
    "        # This tell the category of flower\n",
    "        # print(f'{i+1}.) {str(y_val)} \\t {y_test[i]} \\t {y_val.argmax().item()}')\n",
    "        print(f'{i+1}.) {str(y_val)} \\t {x} \\t {y_val.argmax().item()}')\n",
    "\n",
    "        # Correct or not\n",
    "        if y_val.argmax().item() == y_test[i]:\n",
    "            correct += 1\n",
    "\n",
    "print(f'We got {correct} correct!')\n",
    "        \n",
    "\n",
    "# We will see three clasees for each row. max probabalilty will give the class"
   ]
  },
  {
   "cell_type": "markdown",
   "id": "9de94ae5-ac2f-40fb-91a4-ecb2a0682870",
   "metadata": {},
   "source": [
    "## 5. Evaluate unseen Data On The Network "
   ]
  },
  {
   "cell_type": "code",
   "execution_count": null,
   "id": "9f9ddf6b-a407-4d7a-8a36-c69ffbc0c563",
   "metadata": {},
   "outputs": [],
   "source": [
    "# Create new data point\n",
    "new_iris = torch.tensor([4.7, 3.2, 1.3, 0.2])\n",
    "\n",
    "# Feed it back to NN and calssify this flower\n",
    "with torch.no_grad():\n",
    "    print(model(new_iris))"
   ]
  },
  {
   "cell_type": "markdown",
   "id": "9857669a-97e3-4e92-ac6c-d109fb6576f3",
   "metadata": {},
   "source": [
    "## 6. Save and Load our Neural Network Model"
   ]
  },
  {
   "cell_type": "code",
   "execution_count": null,
   "id": "74810a10-33d6-44e8-b2e7-5f78cfc1766e",
   "metadata": {},
   "outputs": [],
   "source": [
    "# Save weights and biases about the mdoel into dictionary\n",
    "torch.save(model.state_dict(), 'IrisNN_model.pt')"
   ]
  },
  {
   "cell_type": "code",
   "execution_count": null,
   "id": "481f510a-2555-48b5-8561-58bc2ec1ca8f",
   "metadata": {},
   "outputs": [],
   "source": [
    "# Load the saved model\n",
    "new_model = Model() \n",
    "new_model.load_state_dict(torch.load('IrisNN_model.pt'))"
   ]
  },
  {
   "cell_type": "code",
   "execution_count": null,
   "id": "a03077c5-54bd-440e-9376-c8ae4b0bcf53",
   "metadata": {},
   "outputs": [],
   "source": [
    "# make sure it loaded correctly\n",
    "new_model.eval()\n",
    "\n",
    "# Now we can test the data on this new model samee as we did for 'model'"
   ]
  }
 ],
 "metadata": {
  "kernelspec": {
   "display_name": "Python 3 (ipykernel)",
   "language": "python",
   "name": "python3"
  },
  "language_info": {
   "codemirror_mode": {
    "name": "ipython",
    "version": 3
   },
   "file_extension": ".py",
   "mimetype": "text/x-python",
   "name": "python",
   "nbconvert_exporter": "python",
   "pygments_lexer": "ipython3",
   "version": "3.13.2"
  }
 },
 "nbformat": 4,
 "nbformat_minor": 5
}
