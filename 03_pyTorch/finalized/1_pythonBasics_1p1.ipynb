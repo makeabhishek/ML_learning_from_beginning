{
 "cells": [
  {
   "cell_type": "markdown",
   "id": "27aacd06-08fc-4924-a6fc-5fe4cb7be6a5",
   "metadata": {},
   "source": [
    "# <center> 🐍 Python Basics Tutorial 🐍 </center> \n",
    "---\n",
    "This notebook covers Python basics such as data types, variables, control flow, functions, and more.\n",
    "\n",
    "---\n",
    "---\n",
    "<a name='top'></a>\n",
    "# (A) Introduction to Python\n",
    "\n",
    "- [Introduction](#introduction)\n",
    "- [Why Python?](#why_python)\n",
    "- [Installing tools](#installing_tools)\n",
    "- [1. Variables  and data types in Python](#variable)\n",
    "    - [1.1 Numbers in Python](#numbers)\n",
    "    - [1.2 Strings in Python](#strings)\n",
    "    - [1.3 Booleans in Python](#boolean)\n",
    "    - [1.4 List in Python](#list)\n",
    "    - [1.5 Dictionary in Python](#dict)\n",
    "- [2. Operators in Python](#operators)\n",
    "    - [2.1 Comparison operators](#comparison)\n",
    "    - [2.2 Logical operators](#logical)\n",
    "    - [2.3 Membership operators](#membership)\n",
    "    - [2.4Bitwise operators](#bitwise)\n",
    "- [3. Control flow](#control_flow)\n",
    "    - [<code>if</code> statements](#if)\n",
    "    - [<code>match</code> statements](#match) \n",
    "    - [<code>for</code> statements](#for)\n",
    "    - [<code>while</code> statements](#while)\n",
    "\n",
    "<a name='top'></a>\n",
    "# (B) Modular programming in Python\n",
    "\n",
    "- <a href='#introduction'>Introduction </a>\n",
    "- <a href='#functions'> 1. Functions </a>\n",
    "- <a href='#lambda_functions'> 2. Lambda functions </a>\n",
    "- <a href='#built_in'> 3. Built-in functions </a>\n",
    "    - <a href='#map'> <code>map</code> function </a>\n",
    "    - <a href='#filter'> <code>filter</code> function </a>\n",
    "    - <a href='#enumerate'> <code>enumerate</code> function </a>\n",
    "    - <a href='#zip'> <code>zip</code> function </a>\n",
    "- <a href='#classes'> 4. Classes </a>\n",
    "\n",
    "We will cover Modular programming in separate notbook\n",
    "\n",
    "---\n",
    "---\n",
    "<a name='introduction'></a>\n",
    "## Introduction \n",
    "\n",
    "Welcome to the first session of this workshop. Using this notebook, the basic materials will be discussed to get ready for programming.\n",
    "\n",
    "Python is a high-level programming language and due to its ease of learning and usage, it can be written and executed much faster than other programming languages.\n",
    "\n",
    "Created in the 1980s by **Guido van Rossum**, could be easily read and understood.\n",
    "\n",
    "\n",
    "<center><img src='./images/guido_van_rossum.jpeg' width=250px></center> "
   ]
  },
  {
   "cell_type": "markdown",
   "id": "0a88d5c8-e0b8-45a4-a51a-5c42059f826d",
   "metadata": {},
   "source": [
    "<div style=\"text-align: center; font-size: 32px; font-weight: bold;\">\n",
    "    1. Variables and Data Types in Python\n",
    "</div>\n",
    "---\n",
    "\n",
    "### Data Types in Python\n",
    "&nbsp; - Numeric Types (`int`, `float`, `complex`)\n",
    "```\n",
    "    int: eg.`1, -23, 1000`\n",
    "    float: eg. `1.0, -23.5, 1000.99`\n",
    "    complex: eg. `2j, -1.2+ 3j`\n",
    "```\n",
    "&nbsp; - Text Type: `str` ; `' ' , \" \" `\n",
    "\n",
    "&nbsp; - Boolean Type: `bool` ; `True/False` \n",
    "\n",
    "&nbsp; - Container Data Types \\\n",
    "&nbsp; - Sequence Types: `List`, `Tuples`, `Ranges` \\\n",
    "&nbsp; - Mapping Type: `Dictionary` \\\n",
    "&nbsp; - Set Types: - `set`, `frozenset` \\\n",
    "&nbsp; - Binary Types: `bytes`, `bytearray`, `memoryview` \\\n",
    "&nbsp; - Memory Model \\\n",
    "&nbsp; - Sequence Unpacking \\\n",
    "&nbsp; - Other Standard Containers\n",
    "\n",
    "### Variables in Python\n",
    "- Variable names are case-sensitive.\n",
    "- A variable is the location of the data in the memory. \n",
    "- Python doesn't need the variable to be declared and it's created right the first time you assign a value to it.\n",
    "- You can use `print()` to display the value of a variable or the result of an expression.\n",
    "- Memory address of a variable `id(variable_name)` or `hex(id(variable_name))`\n",
    "- Type of a variable: `type(variable_name)`.\n",
    "- Size of a variable (in bytes): `import sys`; `sys.getsizeof(variable)`\n",
    "- Every variable in Python is an object, and methods (functions) and attributes (variables) of each object can be called as\n",
    "- `variable_name.method_name()` or `variable_name.attribute_name`.\n",
    "- The size of a variable can be obtained by `variable_name.__sizeof__()`.\n",
    "- Check if an object has a specific attribute: `hasattr(variable, 'attribute_name')`\n",
    "- Get all attributes and methods of an object: `dir(variable)`\n",
    "- Get the class of a variable: `variable.__class__`\n",
    "- Get the documentation of an object: `help(variable)`\n",
    "- Get the module name of a variable python: `variable.__module__`\n",
    "- To get the name of a module itself, `module.__name__`\n",
    "- Check if a variable is an instance of a specific class `isinstance(variable, class_type)`\n",
    "- Check if a class is a subclass of another: `issubclass(subclass, superclass)`\n",
    "- In Python, we use `#` for single-line comments, and `\"\"\" comments \"\"\"` for multiline comments.\n",
    "\n",
    "$\\color{red}{\\text{Note:}}$ Python is serious about indentation.\n",
    "\n",
    "---"
   ]
  },
  {
   "cell_type": "code",
   "execution_count": 19,
   "id": "5f2eef0b-5201-4008-af55-1002854ff155",
   "metadata": {},
   "outputs": [
    {
     "name": "stdout",
     "output_type": "stream",
     "text": [
      "Value: 1 \n",
      "Type: <class 'int'> \n",
      "Size: 28 bytes 🤔\n"
     ]
    }
   ],
   "source": [
    "# Creating a variable\n",
    "var_name = 1\n",
    "\n",
    "print(\"Value: {} \\nType: {} \\nSize: {} bytes \\U0001f914\".format(var_name, type(var_name), var_name.__sizeof__()))"
   ]
  },
  {
   "cell_type": "markdown",
   "id": "412f2c2b-6617-4a51-ba5c-b1a68a5563e2",
   "metadata": {},
   "source": [
    "<hr>\n",
    "<hr>\n",
    "<div>\n",
    "<span style=\"color:#151D3B; font-weight:bold\">Question: 🤔</span><p>\n",
    "What would be the output of \n",
    "\n",
    "```python\n",
    "print(type(1.))\n",
    "```\n",
    "\n",
    "\n",
    "</div>\n",
    "<hr>\n",
    "<hr>"
   ]
  },
  {
   "cell_type": "markdown",
   "id": "55d0cda1-59f4-496d-a02c-1a3419df4c51",
   "metadata": {},
   "source": [
    "<a name='variable'></a>\n",
    "## 1.1 Numbers in Python \n",
    "\n",
    "Python has the following data types by default:\n",
    "- Numeric types:    `int`, `float`, `complex`\n",
    "- Text Type:        `str`\n",
    "- Sequence Types:\t`list`, `tuple`, `range`\n",
    "- Mapping Type:\t    `dict`\n",
    "- Set Types:\t    `set`, `frozenset`\n",
    "- Boolean Type:\t    `bool`\n",
    "- Binary Types:\t    `bytes`, `bytearray`, `memoryview`\n",
    "\n",
    "Numbers in Python can be either integer, `int`, like `1`, `-23`, `1000` or float, `float`, like `1.0`, `-23.5`, `1000.99` or complex like `2j, -1.2+ 3j`."
   ]
  },
  {
   "cell_type": "code",
   "execution_count": null,
   "id": "4a28c93f-290a-40df-ad21-011f43b368ef",
   "metadata": {},
   "outputs": [],
   "source": [
    "int_var = -25\n",
    "\n",
    "float_var = 11.0\n",
    "\n",
    "complex_var = -1.2+ 3j\n",
    "\n",
    "print(\"int_var:\", type(int_var))\n",
    "print(\"float_var:\", type(float_var))\n",
    "print(\"complex_var:\", type(complex_var))"
   ]
  },
  {
   "cell_type": "markdown",
   "id": "c08d0ea4-5312-477b-8181-c6ed4c209971",
   "metadata": {},
   "source": [
    "<div>\n",
    "<span style=\"color:#151D3B; font-weight:bold\">Question: 🤔</span><p>\n",
    "What would be the output of \n",
    "\n",
    "```python\n",
    "print(type(1.))\n",
    "```\n",
    "\n",
    "</div>\n",
    "\n"
   ]
  },
  {
   "cell_type": "markdown",
   "id": "1ff8a660-2860-47a7-9fea-5951bb9b2e6c",
   "metadata": {},
   "source": [
    "### <span id='numeric_operations'> Numeric operations <span>\n",
    "- Addition\n",
    "- Subtraction\n",
    "- Multiplication\n",
    "- Division\n",
    "- Modular\n",
    "- Powers"
   ]
  },
  {
   "cell_type": "code",
   "execution_count": 9,
   "id": "8821a9e8-b6fb-4d1c-9328-ac376773d5a9",
   "metadata": {},
   "outputs": [
    {
     "name": "stdout",
     "output_type": "stream",
     "text": [
      "Addition a1 + a2 = 17\n",
      "Subtraction a1 - a2 = 7\n",
      "Multiplication a1 * a2 = 60\n",
      "Division a1 / a2 = 2.4\n",
      "Modular a1 % a2 = 2\n",
      "Powers a1^a2 = 248832\n",
      "Square a1^2 = 144\n",
      "Integer division 2\n"
     ]
    }
   ],
   "source": [
    "# Let's first define 4 variables\n",
    "\n",
    "a1 = 12\n",
    "a2 = 5\n",
    "a3 = 1.2\n",
    "a4 = 2j\n",
    "\n",
    "print('Addition a1 + a2 =', a1 + a2)\n",
    "\n",
    "print('Subtraction a1 - a2 =', a1 - a2)\n",
    "\n",
    "print('Multiplication a1 * a2 =', a1 * a2)\n",
    "\n",
    "# Division:  Even the division of two integers with remainder of 0 returns a float output.\n",
    "print('Division a1 / a2 =', a1 / a2)\n",
    "\n",
    "print('Modular/Modulus (remainder) a1 % a2 =', a1 % a2)\n",
    "\n",
    "print('Powers a1^a2 =', a1 ** a2)\n",
    "\n",
    "print('Square a1^2 =', a1 ** 2)\n",
    "\n",
    "print(\"Integer division/ Quotient (Floor division (quotient)) =\", a1 // a2)\n",
    "\n",
    "# or \n",
    "quotient, remainder = divmod(a1, a2)\n",
    "print(\"Quotient =\", quotient)\n",
    "print(\"Remainder =\", remainder)"
   ]
  },
  {
   "cell_type": "markdown",
   "id": "42078123-15e1-4e28-95d2-530227f327b9",
   "metadata": {},
   "source": [
    "<hr>\n",
    "<hr>\n",
    "<div>\n",
    "<span style=\"color:#151D3B; font-weight:bold\">Question: 🤔</span><p>\n",
    "Using <code>a4</code>, show the product of a complex number with its conjugate is equal to the square of the number's modulus\n",
    "</div>\n",
    "<hr>\n",
    "<hr>"
   ]
  },
  {
   "cell_type": "markdown",
   "id": "73d255ce-975c-4262-b5da-991b86c1c645",
   "metadata": {},
   "source": [
    "<a name='strings'></a>\n",
    "### 1.2 Strings in Python\n",
    "\n",
    "In Python, strings can be defined either like \n",
    "\n",
    "`\"This is a string\"`\n",
    "\n",
    "or \n",
    "\n",
    "`'This is a string'`\n",
    "\n",
    "So let's define two string variables and play with it!\n",
    "\n",
    "<a href='https://www.w3schools.com/python/python_ref_string.asp'>Reference</a>"
   ]
  },
  {
   "cell_type": "code",
   "execution_count": null,
   "id": "15357f08-87a5-48db-9163-b08b26bd073b",
   "metadata": {},
   "outputs": [],
   "source": [
    "str_var1 = 'hi, '\n",
    "str_var2 = 'everybody!'\n",
    "\n",
    "\n",
    "new_sentence = str_var1 + str_var2\n",
    "print(new_sentence)\n",
    "\n",
    "# Strings can be created using single, double, or triple quotes.\n",
    "string1 = 'Hello'\n",
    "string2 = \"Python\"\n",
    "string3 = '''This is a multiline string'''\n",
    "print(string1, string2, string3)\n",
    "\n",
    "# Multi-line Strings: Triple quotes (''' or \"\"\") allow multi-line strings.\n",
    "text = \"\"\"This is a\n",
    "multi-line string\n",
    "in Python.\"\"\"\n",
    "print(text)\n"
   ]
  },
  {
   "cell_type": "markdown",
   "id": "ac882edf-892d-4ffc-9469-debb5e17aa08",
   "metadata": {},
   "source": [
    "<div class=\"alert alert-block alert-warning\">\n",
    "<b>Reminder:</b> Every variables in Python is an object and has its own methods and attributes.\n",
    "</div>"
   ]
  },
  {
   "cell_type": "code",
   "execution_count": null,
   "id": "1b0e70c4-1f5d-49a3-bc88-16a00feb46c4",
   "metadata": {},
   "outputs": [],
   "source": [
    "# Convert the string to title\n",
    "new_sentence.title()\n",
    "\n",
    "# Capitalization \n",
    "new_sentence.capitalize()\n",
    "\n",
    "# Convert the string to uppercase \n",
    "new_sentence.upper()\n",
    "\n",
    "# Number of times a specified value occurs in a string\n",
    "new_sentence.count('h')\n",
    "\n",
    "# Splitting the string\n",
    "new_sentence.split()"
   ]
  },
  {
   "cell_type": "code",
   "execution_count": null,
   "id": "c4c44264-c5d1-4db8-a007-730f9354c113",
   "metadata": {},
   "outputs": [],
   "source": [
    "# Accessing Characters in a String. Indexing: Python strings support both positive indexing (from left to right) and negative indexing \n",
    "# (from right to left).\n",
    "text = \"Python\"\n",
    "print(text[0])  # P (positive index)\n",
    "print(text[-1]) # n (negative index)\n",
    "\n",
    "# Slicing- Slicing allows extracting a substring using the syntax: `string[start:stop:step]`\n",
    "text = \"Hello, World!\"\n",
    "print(text[0:5])   # Hello\n",
    "print(text[:5])    # Hello (default start = 0)\n",
    "print(text[7:])    # World! (default stop = end of string)\n",
    "print(text[::2])   # Hlo ol! (step of 2)\n",
    "print(text[::-1])  # !dlroW ,olleH (reversed string)"
   ]
  },
  {
   "cell_type": "code",
   "execution_count": null,
   "id": "ae436db7-005a-43bf-bb12-5ca9026ee030",
   "metadata": {},
   "outputs": [],
   "source": [
    "# String Concatenation \n",
    "str1 = \"Hello\"\n",
    "str2 = \"Python\"\n",
    "result = str1 + \" \" + str2\n",
    "print(result)  # Hello Python\n",
    "\n",
    "# String Repetition\n",
    "text = \"Python \"\n",
    "print(text * 3)  # Python Python Python "
   ]
  },
  {
   "cell_type": "code",
   "execution_count": null,
   "id": "23f05a9b-b999-4040-9d4e-e0ee39ca2259",
   "metadata": {},
   "outputs": [],
   "source": [
    "# String `Membership (in and not in)`\n",
    "text = \"Hello, Python!\"\n",
    "print(\"Python\" in text)  # True\n",
    "print(\"Java\" not in text)  # True\n",
    "\n",
    "# StringComparison (==, !=, <, >)\n",
    "str1 = \"Apple\"\n",
    "str2 = \"Banana\"\n",
    "print(str1 == str2)  # False\n",
    "print(str1 < str2)   # True (Alphabetical order: \"Apple\" comes before \"Banana\")"
   ]
  },
  {
   "cell_type": "code",
   "execution_count": 14,
   "id": "3e8c97b7-9902-49ca-952d-9a381acc35ee",
   "metadata": {},
   "outputs": [
    {
     "name": "stdout",
     "output_type": "stream",
     "text": [
      "Original Text =  Python Programming\n",
      "UPPER CASE =  PYTHON PROGRAMMING\n",
      "lower case =  python programming\n",
      "Title =  Python Programming\n",
      "Capitalize =  Python programming\n",
      "Reverse String =  gnimmargorP nohtyP\n",
      "Hello, Python!\n",
      "Hello, Python!   \n",
      "   Hello, Python!\n",
      "7\n",
      "I love Java programming\n",
      "['apple', 'banana', 'orange']\n",
      "Hello Python\n"
     ]
    }
   ],
   "source": [
    "# Built-in String Methods: Python provides many built-in string methods to manipulate strings.\n",
    "\n",
    "# Changing Case\n",
    "text = \"Python Programming\"\n",
    "print('Original Text = ', text)\n",
    "print('UPPER CASE = ', text.upper())  # PYTHON PROGRAMMING\n",
    "print('lower case = ', text.lower())  # python programming\n",
    "print('Title = ', text.title())  # Python Programming\n",
    "print('Capitalize = ', text.capitalize())  # Python programming\n",
    "\n",
    "# Reversing a String\n",
    "reversed_text = text[::-1]\n",
    "print('Reverse String = ', reversed_text)  # nohtyP\n",
    "\n",
    "# Removing Whitespaces\n",
    "text = \"   Hello, Python!   \"\n",
    "print(text.strip())  # Removes spaces from both ends\n",
    "print(text.lstrip())  # Removes spaces from the left\n",
    "print(text.rstrip())  # Removes spaces from the right\n",
    "\n",
    "# Finding and Replacing\n",
    "text = \"I love Python programming\"\n",
    "print(text.find(\"Python\"))  # 7 (index of \"Python\")\n",
    "print(text.replace(\"Python\", \"Java\"))  # I love Java programming\n",
    "\n",
    "# Splitting and Joining\n",
    "text = \"apple,banana,orange\"\n",
    "words = text.split(\",\")  # Splits string into a list\n",
    "print(words)  # ['apple', 'banana', 'orange']\n",
    "\n",
    "words_list = [\"Hello\", \"Python\"]\n",
    "joined_text = \" \".join(words_list)  # Joins list into a string\n",
    "print(joined_text)  # Hello Python\n"
   ]
  },
  {
   "cell_type": "code",
   "execution_count": 13,
   "id": "84c9c11e-00e9-4329-9744-738c8454c1c5",
   "metadata": {},
   "outputs": [
    {
     "name": "stdout",
     "output_type": "stream",
     "text": [
      "My name is Alice and I am 25 years old.\n"
     ]
    }
   ],
   "source": [
    "# String Formatting: Python provides multiple ways to format strings.\n",
    "\n",
    "# Using `format()`\n",
    "name = \"Alice\"\n",
    "age = 25\n",
    "print(\"My name is {} and I am {} years old.\".format(name, age))\n",
    "\n",
    "# Using f-strings (Python 3.6+)\n",
    "name = \"Alice\"\n",
    "age = 25\n",
    "print(f\"My name is {name} and I am {age} years old.\")\n"
   ]
  },
  {
   "cell_type": "code",
   "execution_count": null,
   "id": "8821c769-66ad-4e9b-b0ae-6b8bbcd5d260",
   "metadata": {},
   "outputs": [],
   "source": [
    "# Checking String Properties\n",
    "text = \"Python123\"\n",
    "print(text.isalpha())  # False (contains numbers)\n",
    "print(text.isdigit())  # False (contains letters)\n",
    "print(\"123\".isdigit())  # True\n",
    "print(\"hello\".islower())  # True\n",
    "print(\"HELLO\".isupper())  # True\n",
    "print(\"Hello World\".istitle())  # True\n",
    "print(\"  \".isspace())  # True (Only spaces)"
   ]
  },
  {
   "cell_type": "code",
   "execution_count": null,
   "id": "39095d34-8640-4f4d-a356-2547cff95cdb",
   "metadata": {},
   "outputs": [],
   "source": [
    "# Checking if a String Starts/Ends with a Specific Substring\n",
    "text = \"Hello, Python!\"\n",
    "print(text.startswith(\"Hello\"))  # True\n",
    "print(text.endswith(\"Python!\"))  # True"
   ]
  },
  {
   "cell_type": "markdown",
   "id": "f4ca8c66-6c46-4f31-9db5-c5859da70fa6",
   "metadata": {},
   "source": [
    "# 10. Escape Characters: Escape sequences allow including special characters in strings.\n",
    "| Escape Sequence | Meaning       |\n",
    "|----------------|--------------|\n",
    "| `\\n`          | Newline       |\n",
    "| `\\t`          | Tab           |\n",
    "| `\\'`          | Single quote  |\n",
    "| `\\\"`          | Double quote  |\n",
    "| `\\\\`          | Backslash     |"
   ]
  },
  {
   "cell_type": "code",
   "execution_count": 15,
   "id": "de715a23-0259-48f8-8d6c-124637f01030",
   "metadata": {},
   "outputs": [
    {
     "name": "stdout",
     "output_type": "stream",
     "text": [
      "Hello\n",
      "Python\tWorld!\n",
      "C:\\Users\\Python\\Documents\n"
     ]
    }
   ],
   "source": [
    "text = \"Hello\\nPython\\tWorld!\"\n",
    "print(text)\n",
    "\n",
    "# Raw Strings (Ignoring Escape Sequences): Use r\"\" to treat backslashes as normal characters\n",
    "path = r\"C:\\Users\\Python\\Documents\"\n",
    "print(path)  # C:\\Users\\Python\\Documents\n"
   ]
  },
  {
   "cell_type": "markdown",
   "id": "80661218-bb8d-44df-aef1-ce67128fd19c",
   "metadata": {},
   "source": [
    "<a name='boolean'></a>\n",
    "### 1.3 Booleans in Python \n",
    "Booleans represent one of two values: `True` or `False`"
   ]
  },
  {
   "cell_type": "code",
   "execution_count": null,
   "id": "3b68a0c8-b9b8-4512-8c59-f8312433ee0d",
   "metadata": {},
   "outputs": [],
   "source": [
    "# Greater or equal \n",
    "print(2 >= 4)\n",
    "\n",
    "# Check the equality\n",
    "print(2 == 4)\n",
    "print(2 == 2)\n",
    "\n",
    "bool('hello')\n",
    "\n",
    "print(bool(False), bool(None),bool(0), bool(\"\"), bool(()), bool([]), bool({}))"
   ]
  },
  {
   "cell_type": "markdown",
   "id": "18e71916-cf85-43f3-969f-b1f1c234cf76",
   "metadata": {},
   "source": [
    "<a name='list'></a>\n",
    "### 1.4 List in Python \n",
    "List is a type of data structure that can keep more than one object.\n",
    "\n",
    "<a href='https://www.w3schools.com/python/python_ref_list.asp'> Reference</a> for methods of lists."
   ]
  },
  {
   "cell_type": "code",
   "execution_count": null,
   "id": "cb418978-c4af-42c8-ba9c-e1c15781768e",
   "metadata": {},
   "outputs": [],
   "source": [
    "month_name = ['Jan', 'Feb', 'Mar', 'Apr', 'May', 'Jun']\n",
    "month_num = [1, 2, 3, 4, 5, 6, 7]\n",
    "\n",
    "print(type(month_name))\n",
    "print(month_name)\n",
    "\n",
    "print(month_name[2])\n",
    "print(month_name[:3])"
   ]
  },
  {
   "cell_type": "markdown",
   "id": "dd806c1c-29eb-4cb4-9298-5b383511bbc4",
   "metadata": {},
   "source": [
    "<hr>\n",
    "<hr>\n",
    "<span style=\"color:#151D3B; font-weight:bold\">Question: 🤔</span><p>\n",
    "What's the result of \n",
    "\n",
    "``` Python\n",
    "days_num + [2]\n",
    "```\n",
    "<hr>\n",
    "<hr>"
   ]
  },
  {
   "cell_type": "code",
   "execution_count": null,
   "id": "bc2d482f-11d4-473e-8175-342c008dcf0c",
   "metadata": {},
   "outputs": [],
   "source": [
    "# Answer\n"
   ]
  },
  {
   "cell_type": "code",
   "execution_count": null,
   "id": "67353bce-1c56-4f25-a86c-0d58f3221e82",
   "metadata": {},
   "outputs": [],
   "source": [
    "len(days_num)"
   ]
  },
  {
   "cell_type": "code",
   "execution_count": null,
   "id": "57921df2-7543-46b7-920c-4c2b8fe39d40",
   "metadata": {},
   "outputs": [],
   "source": [
    "<div class=\"alert alert-block alert-warning\">\n",
    "<b>Reminder:</b> Every object has its own methods and attributes.\n",
    "</div>"
   ]
  },
  {
   "cell_type": "markdown",
   "id": "9ae3eeba-ae32-43a7-bb7f-c1648aed8237",
   "metadata": {},
   "source": [
    "### Concatanating List and Appending a list "
   ]
  },
  {
   "cell_type": "code",
   "execution_count": null,
   "id": "1aef2921-78df-41e8-af8c-32fb1902ecc8",
   "metadata": {},
   "outputs": [],
   "source": [
    "print(month_num + [30])\n",
    "\n",
    "# Appending a list\n",
    "month_num.append(30)\n",
    "print(month_num)"
   ]
  },
  {
   "cell_type": "markdown",
   "id": "8bfb48eb-04d9-40aa-b11a-072af0af873c",
   "metadata": {},
   "source": [
    "### Reverse a list"
   ]
  },
  {
   "cell_type": "code",
   "execution_count": null,
   "id": "63ad9b41-adf7-4108-936d-e2f892032104",
   "metadata": {},
   "outputs": [],
   "source": [
    "month_num.reverse()\n",
    "print(month_num)"
   ]
  },
  {
   "cell_type": "markdown",
   "id": "b499c909-c6e6-4a52-9ebe-edd64e5a567a",
   "metadata": {},
   "source": [
    "### Sort a list"
   ]
  },
  {
   "cell_type": "code",
   "execution_count": null,
   "id": "b2e9acfb-71d1-4a44-a679-b4203db89e93",
   "metadata": {},
   "outputs": [],
   "source": [
    "month_num.sort()\n",
    "month_num"
   ]
  },
  {
   "cell_type": "markdown",
   "id": "0c400edd-3d5c-4cd1-99f0-aed2276b3189",
   "metadata": {},
   "source": [
    "<div class=\"alert alert-block alert-danger\">\n",
    "<b>Danger:</b> Methods in here act inplace.\n",
    "</div>"
   ]
  },
  {
   "cell_type": "markdown",
   "id": "3424464b-5643-4e36-8f67-638ec10ff937",
   "metadata": {},
   "source": [
    "### Remove an element of a list"
   ]
  },
  {
   "cell_type": "code",
   "execution_count": null,
   "id": "2a7ca9d1-0ff5-403f-b8b2-c0365ad1a4a8",
   "metadata": {},
   "outputs": [],
   "source": [
    "# Remove an element of a list by its value\n",
    "a = month_num.remove(30)\n",
    "print(a)\n",
    "\n",
    "# Remove an element of a list by its index\n",
    "b = month_num.pop(0)\n",
    "print(b)"
   ]
  },
  {
   "cell_type": "code",
   "execution_count": null,
   "id": "86071316-9506-49eb-8533-80993ea7aac1",
   "metadata": {},
   "outputs": [],
   "source": [
    "# Example of list\n",
    "\n",
    "days_name = ['Mon', 'Tue', 'Wed', 'Thur', 'Friday', 'Sat', 'Sun']\n",
    "days_num = [1, 20, -11, 32, 5, 2, 7]\n",
    "\n",
    "print(type(days_num))\n",
    "print(days_name)\n",
    "\n",
    "# Appending a list \n",
    "\n",
    "days_num.append(30)\n",
    "days_num\n",
    "\n",
    "# Reverse a list\n",
    "days_num.reverse()\n",
    "days_num\n",
    "\n",
    "# Sort a list\n",
    "days_num.sort()\n",
    "days_num\n",
    "\n",
    "# Remove an element of a list by its value\n",
    "a = days_num.remove(30)\n",
    "days_num\n"
   ]
  },
  {
   "cell_type": "markdown",
   "id": "7d6dcd71-a41e-424e-96cb-a18205fa3c1b",
   "metadata": {},
   "source": [
    "<div class=\"alert alert-block alert-danger\">\n",
    "<b>Danger:</b> Methods in here act inplace.\n",
    "</div>"
   ]
  },
  {
   "cell_type": "code",
   "execution_count": null,
   "id": "8e820e9c-ff78-423a-bc3e-9d9c577d08b2",
   "metadata": {},
   "outputs": [],
   "source": [
    "# Remove an element of a list by its index\n",
    "b = days_num.pop(0)\n",
    "days_num\n",
    "\n",
    "# days_num.remove() returns None but days_num.pop() returns the deleted item.\n",
    "print(a)\n",
    "print(b)"
   ]
  },
  {
   "cell_type": "markdown",
   "id": "4516b7bd-596f-4712-a006-10fc1440ed07",
   "metadata": {},
   "source": [
    "<a name='dict'></a>\n",
    "### 1.5 Dictionary in Python \n",
    "Dictionaries are used to store data values in `key:value` pairs.\n",
    "\n",
    "<a href='https://www.w3schools.com/python/python_ref_dictionary.asp'> Reference</a> for methods of dictionaries."
   ]
  },
  {
   "cell_type": "code",
   "execution_count": null,
   "id": "72842319-eb41-49b6-8c6e-1e743bf66027",
   "metadata": {},
   "outputs": [],
   "source": [
    "# Example of dictionary\n",
    "\n",
    "iran = {\n",
    "    'Name': 'Iran',\n",
    "    'population': 83.99,\n",
    "    'area': 1.648\n",
    "}\n",
    "\n",
    "print(iran)\n",
    "\n",
    "# Get the keys of a dictionary\n",
    "iran.keys()\n",
    "\n",
    "# Get the value of each key in a dictionary\n",
    "iran.values()\n",
    "\n",
    "# Get the otems of a dictionary\n",
    "iran.items()"
   ]
  },
  {
   "cell_type": "code",
   "execution_count": null,
   "id": "cb44b47e-e631-4860-ae8d-9d779e9c8237",
   "metadata": {},
   "outputs": [],
   "source": [
    "countries = {\n",
    "    'Iran': {\n",
    "        'population': 83.99,\n",
    "        'area': 1.648e6\n",
    "        },\n",
    "    'Canada': {\n",
    "             'population': 38.01 ,\n",
    "             'area': 9.985e6\n",
    "             },\n",
    "    'Spain': {\n",
    "        'population': 47.35,\n",
    "        'area': 505.990\n",
    "    },\n",
    "    }"
   ]
  },
  {
   "cell_type": "code",
   "execution_count": null,
   "id": "9cb5f6ef-460d-40f4-a084-6aea1b84c365",
   "metadata": {},
   "outputs": [],
   "source": [
    "countries['Canada']\n",
    "# countries['Canada']['population']"
   ]
  },
  {
   "cell_type": "code",
   "execution_count": null,
   "id": "4b671a07-b430-4f7c-825e-01fdb033880c",
   "metadata": {},
   "outputs": [],
   "source": [
    "# What's the problem with following code:\n",
    "countries['Iran ']"
   ]
  },
  {
   "cell_type": "code",
   "execution_count": null,
   "id": "4130a04f-8a73-483f-9692-1c6498c53d80",
   "metadata": {},
   "outputs": [],
   "source": [
    "countries = {\n",
    "    'Iran': {  # Fixed key\n",
    "        'population': 83.99,\n",
    "        'area': 1.648e6\n",
    "    },\n",
    "    'Canada': {\n",
    "        'population': 38.01,\n",
    "        'area': 9.985e6\n",
    "    },\n",
    "    'Spain': {\n",
    "        'population': 47.35,\n",
    "        'area': 505.990\n",
    "    },\n",
    "}"
   ]
  },
  {
   "cell_type": "code",
   "execution_count": null,
   "id": "1a25f965-e77b-40fb-98a8-7d228451e717",
   "metadata": {},
   "outputs": [],
   "source": [
    "print(countries['Iran'])  # This will work now\n",
    "# print(countries['Iran '])  # Notice the space"
   ]
  },
  {
   "cell_type": "code",
   "execution_count": null,
   "id": "5eb08827-fa7a-463c-975c-ce5d849b5d32",
   "metadata": {},
   "outputs": [],
   "source": [
    "# To prevent similar issues, consider using .strip() when working with user inputs or predefined keys:\n",
    "print(countries.get('Iran'.strip(), \"Key not found\"))"
   ]
  },
  {
   "cell_type": "markdown",
   "id": "c6ad7913-3e72-4c58-a66f-b626bb3116e7",
   "metadata": {},
   "source": [
    "<hr>\n",
    "<hr>\n",
    "<span style=\"color:#151D3B; font-weight:bold\">Question: 🤔</span><p>\n",
    "What's the problem with following code: \n",
    "    \n",
    "<code>countries['Iran']['population']</code>\n",
    "    \n",
    "<hr>\n",
    "<hr>"
   ]
  },
  {
   "cell_type": "code",
   "execution_count": 18,
   "id": "de003460-7774-438a-bde5-14f3e6d82154",
   "metadata": {},
   "outputs": [],
   "source": [
    "# Answer\n"
   ]
  },
  {
   "cell_type": "markdown",
   "id": "6b35d7ad-f56b-4828-937c-9e57c57e59ae",
   "metadata": {},
   "source": [
    "<a name='tuple'></a>\n",
    "### 1.6 Tuples in Python \n",
    "\n",
    "- Tuples are like list but they are `immutable` which means they can't be changed.\n",
    "- Tuples can't be changed after they're created."
   ]
  },
  {
   "cell_type": "code",
   "execution_count": null,
   "id": "90d277fa-9eeb-473d-a2e4-e549bdd0aacb",
   "metadata": {},
   "outputs": [],
   "source": [
    "var_tuple1 = (1, 'b')\n",
    "var_tuple1"
   ]
  },
  {
   "cell_type": "code",
   "execution_count": null,
   "id": "74354b07-ea8b-46b7-8f92-3c4d8b0a260b",
   "metadata": {},
   "outputs": [],
   "source": [
    "# Indexing\n",
    "var_tuple1[0]\n",
    "# var_tuple1[0] = 2"
   ]
  },
  {
   "cell_type": "code",
   "execution_count": null,
   "id": "87621319-0bd5-4ffe-894c-558692d3063e",
   "metadata": {},
   "outputs": [],
   "source": [
    "# Tuples can't be changed after they're created.\n",
    "\n",
    "# var_tuple1[0] = 2"
   ]
  },
  {
   "cell_type": "markdown",
   "id": "ad3b7ee2-266e-4dec-8029-98509b7f4a4a",
   "metadata": {},
   "source": [
    "<a name='set'></a>\n",
    "### 1.7 Sets in Python \n",
    "- Sets are like lists exccept they keep only unique values."
   ]
  },
  {
   "cell_type": "code",
   "execution_count": null,
   "id": "72b52428-8b65-472b-9950-6d3a1b1b7c30",
   "metadata": {},
   "outputs": [],
   "source": [
    "set_var1 = {9, 1, 1, '4', 4, 100, False, False, 100, 3, 'a', None}\n",
    "set_var2 = {9, 1, '4', 4, None, 100, 3, 'a', False}"
   ]
  },
  {
   "cell_type": "code",
   "execution_count": null,
   "id": "066fc4d0-5e6b-45f0-8d1f-9aeeed440a81",
   "metadata": {},
   "outputs": [],
   "source": [
    "set_var1 == set_var2"
   ]
  },
  {
   "cell_type": "markdown",
   "id": "a22c91be-15b3-48c7-8e2d-3e08417a542c",
   "metadata": {},
   "source": [
    "<span style=\"color:red; font-weight:bold;\"> Note:</span> \n",
    "\n",
    "- Sets only keep the unique values.\n",
    "- Order is not important."
   ]
  },
  {
   "cell_type": "markdown",
   "id": "5ac60a43-f2d6-43c6-b27c-c872b3cbfe7b",
   "metadata": {},
   "source": [
    "<div style=\"text-align: center; font-size: 32px; font-weight: bold;\">\n",
    "    2. Operators in Python \n",
    "</div>"
   ]
  },
  {
   "cell_type": "markdown",
   "id": "1068a6ef-5aa0-4da7-8a67-37bfc958f8b0",
   "metadata": {},
   "source": [
    "<a name='comparison'></a>\n",
    "### 2.1 Comparison operator\n",
    "\n",
    "Comparison operators are used to compare two values\n",
    "\n",
    "|Operator|Name|Example|\n",
    "|:-:|:-:|:-:|\n",
    "|==     |Equal     |    `x == y`     |\n",
    "|!=     |Not equal     |`x != y`    |\n",
    "|>     |Greater than      |    `x > y`     |\n",
    "|<>     |Less than     |`x < y`    |\n",
    "|>=     |Greater than or equal      |    `x >= y`     |\n",
    "|<=     |Less than or equal     |`x <= y`    |\n"
   ]
  },
  {
   "cell_type": "code",
   "execution_count": null,
   "id": "3c50df49-e9c2-444a-9505-16ac46faf666",
   "metadata": {},
   "outputs": [],
   "source": [
    "print(2 == '2')\n",
    "print(2 > 3)\n",
    "print(2 < 3)"
   ]
  },
  {
   "cell_type": "markdown",
   "id": "4dc0b0ea-850b-4d80-ac3b-d7e7cb973fd3",
   "metadata": {},
   "source": [
    "<a name='logical'></a>\n",
    "### 2.2 Logical operators \n",
    "\n",
    "Logical operators are used to combine conditional statements:\n",
    "\n",
    "- `and` returns `True` if both statements are `True`.\n",
    "\n",
    "- `or` returns `True` if one of the statements is `True`\n",
    "\n",
    "- `not` reverse the result, returns `False` if the result is `True`"
   ]
  },
  {
   "cell_type": "code",
   "execution_count": null,
   "id": "3565b4b9-2957-4973-8852-ff9ba6649bfe",
   "metadata": {},
   "outputs": [],
   "source": [
    "not(2 > 5 and 4 > 12)"
   ]
  },
  {
   "cell_type": "markdown",
   "id": "08e9465d-dfea-40c4-8bde-bce1f2ec72a3",
   "metadata": {},
   "source": [
    "<a name='membership'></a>\n",
    "### 2.3 Membership operators \n",
    "\n",
    "Membership operators are used to test if a sequence is presented in an object.\n",
    "\n",
    "- `in` returns `True` if a sequence with the specified value is present in the object.\n",
    "\n",
    "- `not in` returns `True` if a sequence with the specified value is not present in the object.\n"
   ]
  },
  {
   "cell_type": "code",
   "execution_count": null,
   "id": "9a991e4b-24fe-40ad-aa22-860f8001972d",
   "metadata": {},
   "outputs": [],
   "source": [
    "2 not in [1, '2', 3]"
   ]
  },
  {
   "cell_type": "code",
   "execution_count": null,
   "id": "47807fee-d91e-47e6-b515-d14acbaaf38a",
   "metadata": {},
   "outputs": [],
   "source": [
    "2 in [1, 2, 3]"
   ]
  },
  {
   "cell_type": "markdown",
   "id": "659b1746-3717-41f8-ac8c-459f80d0779e",
   "metadata": {},
   "source": [
    "<a name='bitwise'></a>\n",
    "### 2.4 Bitwise operators \n",
    "\n",
    "Bitwise operators are used to compare (binary) numbers.\n",
    "\n",
    "Comparison operators are used to compare two values\n",
    "\n",
    "|Operator|Name|Description|\n",
    "|:-:|:-:|:-:|\n",
    "|&     |AND     |    Sets each bit to 1 if both bits are 1     |\n",
    "| \\|    |OR     | Sets each bit to 1 if one of two bits is 1    |\n",
    "| ^    |XOR      |    Sets each bit to 1 if only one of two bits is 1    |\n",
    "| ~    |NOT     |  Inverts all the bits    |\n",
    "| <<   |Zero fill left shift     |    Shift left by pushing zeros in from the right   |\n",
    "| >>   |Signed right shift   |Shift right by pushing copies of the leftmost bit in from the left, and let the rightmost bits fall off    |\n",
    "\n",
    "\n",
    "We can reperesent a number like `5` in binary as\n",
    "\n",
    "<table>\n",
    "      <tr>\n",
    "            <td>1</td>\n",
    "            <td>0</td>\n",
    "            <td>1</td>\n",
    "      </tr>\n",
    "\n",
    "</table>\n",
    "\n",
    "where `6` is\n",
    "\n",
    "<table>\n",
    "      <tr>\n",
    "            <td>1</td>\n",
    "            <td>1</td>\n",
    "            <td>0</td>\n",
    "      </tr>\n",
    "\n",
    "</table>\n",
    "\n",
    "So, the intersection is \n",
    "\n",
    "<table>\n",
    "      <tr>\n",
    "            <td>1</td>\n",
    "            <td>0</td>\n",
    "            <td>0</td>\n",
    "      </tr>\n",
    "\n",
    "</table>\n",
    "\n",
    "which is `4` in decimal format.\n"
   ]
  },
  {
   "cell_type": "code",
   "execution_count": null,
   "id": "ae44fe5d-3e02-46c6-8e47-6413482bf4d1",
   "metadata": {},
   "outputs": [],
   "source": [
    "5 & 6"
   ]
  },
  {
   "cell_type": "markdown",
   "id": "28baa687-5df2-40ca-b292-7e382da56122",
   "metadata": {},
   "source": [
    "<hr>\n",
    "<hr>\n",
    "<span style=\"color:#151D3B; font-weight\n",
    ":bold\">Question: 🤔</span>\n",
    "<p>\n",
    "What's the result of following code:\n",
    "\n",
    "```Python\n",
    "5 >> 1\n",
    "```\n",
    "<hr>\n",
    "<hr>"
   ]
  },
  {
   "cell_type": "code",
   "execution_count": null,
   "id": "487df20f-e96b-41cd-aa00-687c73182763",
   "metadata": {},
   "outputs": [],
   "source": [
    "# Answer\n"
   ]
  },
  {
   "cell_type": "markdown",
   "id": "9b8faef8-aec7-4dde-8f47-e3cc690b898a",
   "metadata": {},
   "source": [
    "<div style=\"text-align: center; font-size: 32px; font-weight: bold;\">\n",
    "    3. Control flow  \n",
    "</div>\n",
    "As other languages, Python uses the usual flow control statements but with some twists."
   ]
  },
  {
   "cell_type": "markdown",
   "id": "8f8c44ec-8214-4285-b9c4-5ddeb547edf2",
   "metadata": {},
   "source": [
    "<a name='if'></a>\n",
    "### 3.1 `if` statements\n",
    "The most well-known statement is the `if` statement. \n",
    "\n",
    "```Python\n",
    "if condition1:\n",
    "  do something\n",
    "elif condition2:\n",
    "    do this\n",
    "else:\n",
    "  do this\n",
    "```"
   ]
  },
  {
   "cell_type": "code",
   "execution_count": null,
   "id": "c26d97c3-87a8-4f59-ba13-0483da682b7d",
   "metadata": {},
   "outputs": [],
   "source": [
    "if 10 > 3.:\n",
    "    print(\"10 is really greater!\")\n",
    "else:\n",
    "    print(\"This would never be displayed.\")"
   ]
  },
  {
   "cell_type": "code",
   "execution_count": null,
   "id": "5e438348-c025-477f-82d7-f2af579932a5",
   "metadata": {},
   "outputs": [],
   "source": []
  },
  {
   "cell_type": "code",
   "execution_count": null,
   "id": "9d29357f-7472-450e-909f-66e70949fee9",
   "metadata": {},
   "outputs": [],
   "source": [
    "x = int(input())\n",
    "\n",
    "if x > 20:\n",
    "    print(\"{} is greater than 20\".format(x))\n",
    "elif x < 20:\n",
    "    print(\"{} is less than 20\".format(x))\n",
    "else:\n",
    "    print(\"{} is equal to 20\".format(x))"
   ]
  },
  {
   "cell_type": "markdown",
   "id": "656cd2f2-7427-438b-855f-3ae20ae50b4d",
   "metadata": {},
   "source": [
    "The `if` statement can be used in only one line as \n",
    "\n",
    "```Python\n",
    "'value_if_true' if condition else 'value_if_false'\n",
    "```\n",
    "or\n",
    "```Python\n",
    "('value_if_false', 'value_if_true')[condition] \n",
    "```"
   ]
  },
  {
   "cell_type": "code",
   "execution_count": null,
   "id": "a69b730d-4b91-40bf-ac1d-33243f4d2ee9",
   "metadata": {},
   "outputs": [],
   "source": [
    "# Example of the first method\n",
    "\n",
    "a = [1, 2, 3, 6]\n",
    "\n",
    "True if 3 in a else False"
   ]
  },
  {
   "cell_type": "code",
   "execution_count": 20,
   "id": "0c242305-8c6f-4ed2-8e3e-58b23b6370b1",
   "metadata": {},
   "outputs": [
    {
     "data": {
      "text/plain": [
       "True"
      ]
     },
     "execution_count": 20,
     "metadata": {},
     "output_type": "execute_result"
    }
   ],
   "source": [
    "# Example of the second method\n",
    "\n",
    "a = [1, 2, 3, 6]\n",
    "\n",
    "(False, True)[3 in a]"
   ]
  },
  {
   "cell_type": "code",
   "execution_count": null,
   "id": "6f80865b-fd60-45fa-ac84-62c43abe7f8d",
   "metadata": {},
   "outputs": [],
   "source": [
    "<a name='match'></a>\n",
    "### 3.2 `match` statements\n",
    "\n",
    "The `match` statement is slightly similar to `switch` statement in C, Java, JavaScript, etc.\n",
    "\n",
    "\n",
    "```Python \n",
    "match var:\n",
    "    case first:\n",
    "        do this\n",
    "    case second:\n",
    "        do this\n",
    "```"
   ]
  },
  {
   "cell_type": "code",
   "execution_count": 21,
   "id": "a55f3298-ed8f-45a9-a574-138b25236194",
   "metadata": {},
   "outputs": [],
   "source": [
    "# Uncomment this cell if you're using Python version 3.10 or higher \n",
    "\n",
    "a = 2\n",
    "\n",
    "# match a:\n",
    "#     case '2':\n",
    "#         print('str')\n",
    "#     case 2:\n",
    "#         print('Number')\n",
    "        \n",
    "    "
   ]
  },
  {
   "cell_type": "markdown",
   "id": "38579119-aa5d-4f5a-90b4-47004365fe10",
   "metadata": {},
   "source": [
    "<a name='for'></a>\n",
    "### 3.3 `for` statements\n",
    "The `for` statements are used for iteration when the limit is defined.\n",
    "\n",
    "```Python\n",
    "for i in something:\n",
    "    do something\n",
    "```"
   ]
  },
  {
   "cell_type": "code",
   "execution_count": null,
   "id": "6d1f2794-f472-4679-aef2-4df553b1ce62",
   "metadata": {},
   "outputs": [],
   "source": [
    "# Loop over a range \n",
    "\n",
    "for i in range(5):\n",
    "    print(i)"
   ]
  },
  {
   "cell_type": "code",
   "execution_count": null,
   "id": "01c8a23f-fca1-4337-b065-f20f154fb490",
   "metadata": {},
   "outputs": [],
   "source": [
    "# Loop over a list\n",
    "\n",
    "for word in ['hi', 1, True, 2j]:\n",
    "    print(word)"
   ]
  },
  {
   "cell_type": "code",
   "execution_count": null,
   "id": "4572dcd9-8c15-409a-aef2-335ed2d2ced8",
   "metadata": {},
   "outputs": [],
   "source": [
    "countries = {\n",
    "    'Iran ': {\n",
    "        'population': 83.99e6,\n",
    "        'area': 1.648e6\n",
    "        },\n",
    "    'Canada': {\n",
    "             'population': 38.01e6 ,\n",
    "             'area': 9.985e6\n",
    "             },\n",
    "    'Spain': {\n",
    "        'population': 47.35e6,\n",
    "        'area': 505.990e3\n",
    "    },\n",
    "    }\n",
    "\n",
    "for country in countries:\n",
    "    print(country, 'has', countries[country]['population']*1e-6, \" population!\")"
   ]
  },
  {
   "cell_type": "markdown",
   "id": "6625deaa-abdc-4096-8be5-627940dca384",
   "metadata": {},
   "source": [
    "<hr>\n",
    "<hr>\n",
    "<span style=\"color:#151D3B; font-weight\n",
    ":bold\">Question: 🤔</span>\n",
    "<p>\n",
    "Write a code to show the density of people in each country.\n",
    "\n",
    "<hr>\n",
    "<hr>"
   ]
  },
  {
   "cell_type": "code",
   "execution_count": null,
   "id": "77d55dab-7fb9-40e6-824d-c90dfa49b774",
   "metadata": {},
   "outputs": [],
   "source": [
    "# Answer\n"
   ]
  },
  {
   "cell_type": "code",
   "execution_count": null,
   "id": "7d119ed8-a7ed-491a-8e35-bcf1bb30cec2",
   "metadata": {},
   "outputs": [],
   "source": [
    "# [print(country + ': ', countries[country]['population'] / countries[country]['area']) for country in countries];"
   ]
  },
  {
   "cell_type": "markdown",
   "id": "0132ffda-97de-402f-980a-40756ff7c386",
   "metadata": {},
   "source": [
    "<a name='while'></a>\n",
    "### 3.4 `while` statements \n",
    "The `while` statements are used for iteration as long as the condition is `True`.\n",
    "\n",
    "```Python\n",
    "while condition:\n",
    "    do something\n",
    "```\n"
   ]
  },
  {
   "cell_type": "code",
   "execution_count": null,
   "id": "42c18485-8f9b-4cac-891d-d48e1937da56",
   "metadata": {},
   "outputs": [],
   "source": [
    "a = 1\n",
    "while a < 25:\n",
    "    print('a is: {}'.format(a))\n",
    "    a *= 2"
   ]
  },
  {
   "cell_type": "markdown",
   "id": "d1cfe474-cc17-4913-bd88-6f10927b699e",
   "metadata": {},
   "source": [
    "### [TOP ☝️](#top)\n"
   ]
  },
  {
   "cell_type": "markdown",
   "id": "50620611-aef5-4450-ab34-c3c0f60c1d9a",
   "metadata": {},
   "source": [
    "\n",
    "--------------------------------------------------------------------------------------------------------------------------------------------"
   ]
  },
  {
   "cell_type": "markdown",
   "id": "4fbccfd8-93d0-4d8f-8e4f-08ddc66fa123",
   "metadata": {},
   "source": [
    "<div style=\"\n",
    "    font-size:24px; \n",
    "    font-weight:bold; \n",
    "    color:#4CAF50; \n",
    "    text-align:center; \n",
    "    padding:20px;\n",
    "    border-radius:10px;\n",
    "    background-color:#f0f0f0;\">\n",
    "    🎉 Thank You for Using This Notebook! 🚀<br> \n",
    "    <span style=\"color:#ff5722;\">Happy Coding & Keep Learning! 💡</span>\n",
    "</div>"
   ]
  },
  {
   "cell_type": "markdown",
   "id": "db662e75-70b9-45c9-81dd-6d23e6e62719",
   "metadata": {},
   "source": [
    "# NEXT: Modular programming in Python"
   ]
  },
  {
   "cell_type": "code",
   "execution_count": null,
   "id": "3df32a05-3366-41e3-ad9b-35e5b7ed6bf7",
   "metadata": {},
   "outputs": [],
   "source": []
  }
 ],
 "metadata": {
  "kernelspec": {
   "display_name": "Python 3 (ipykernel)",
   "language": "python",
   "name": "python3"
  },
  "language_info": {
   "codemirror_mode": {
    "name": "ipython",
    "version": 3
   },
   "file_extension": ".py",
   "mimetype": "text/x-python",
   "name": "python",
   "nbconvert_exporter": "python",
   "pygments_lexer": "ipython3",
   "version": "3.13.2"
  }
 },
 "nbformat": 4,
 "nbformat_minor": 5
}
