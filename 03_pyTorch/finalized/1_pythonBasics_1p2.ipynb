{
 "cells": [
  {
   "cell_type": "markdown",
   "id": "27aacd06-08fc-4924-a6fc-5fe4cb7be6a5",
   "metadata": {},
   "source": [
    "# <center> 🐍 Python Basics Tutorial 🐍 </center> \n",
    "\n",
    "<a name='top'></a>\n",
    "# (B) Modular programming in Python\n",
    "\n",
    "- <a href='#introduction'>Introduction </a>\n",
    "- <a href='#functions'> 1. Functions </a>\n",
    "- <a href='#lambda_functions'> 2. Lambda functions </a>\n",
    "- <a href='#built_in'> 3. Built-in functions </a>\n",
    "    - <a href='#map'> <code>map</code> function </a>\n",
    "    - <a href='#filter'> <code>filter</code> function </a>\n",
    "    - <a href='#enumerate'> <code>enumerate</code> function </a>\n",
    "    - <a href='#zip'> <code>zip</code> function </a>\n",
    "- <a href='#classes'> 4. Classes </a>\n",
    "\n",
    "---\n",
    "---\n",
    "<a name='introduction'></a>\n",
    "## Introduction \n",
    "\n",
    "***Modular programming*** in Python is a very important tool for modern developers. To create robust systems that last, you need to know how to organize your programs so that they can grow over time. The techniques of modular programming and the specific use of Python modules and packages give us tools that we need to succeed as expertise in the fast-changing programming landscape."
   ]
  },
  {
   "cell_type": "markdown",
   "id": "7aeec927-8293-4a48-bf92-dcef45334aa5",
   "metadata": {},
   "source": [
    "<a name='functions'></a>\n",
    "## 1. Functions \n",
    "A function is a block of code that only runs when it is called. Functions are used to reduce the repetition in code.\n",
    "\n",
    "\n",
    "```Python\n",
    "def function_name(inputs):\n",
    "    \"\"\"\n",
    "    a summary\n",
    "\n",
    "    Parameters\n",
    "    ----------\n",
    "    inputs : type\n",
    "        description\n",
    "\n",
    "    Returns\n",
    "    -------\n",
    "    type\n",
    "        description\n",
    "    \"\"\"\n",
    "    block of code\n",
    "    \n",
    "    return result\n",
    "```"
   ]
  },
  {
   "cell_type": "code",
   "execution_count": 3,
   "id": "38c7cd0c-b4d1-4d4d-98b5-b5f33f5afbb6",
   "metadata": {},
   "outputs": [],
   "source": [
    "# Example 1: Write a fundtion to add two numbers\n",
    "\n",
    "def add (a , b):\n",
    "    \"\"\"\n",
    "    add is used to calculate the summation of two variables\n",
    "\n",
    "\n",
    "    Parameters\n",
    "    ----------\n",
    "    a : Numeric\n",
    "        a numeric variable\n",
    "    b : Numeric\n",
    "        a numeric variable\n",
    "\n",
    "    Returns\n",
    "    -------\n",
    "    c : Numeric\n",
    "        a + b\n",
    "    \"\"\"\n",
    "    c = a + b\n",
    "    \n",
    "    return c"
   ]
  },
  {
   "cell_type": "code",
   "execution_count": null,
   "id": "eeaabab0-4524-4805-958a-58e9109b333e",
   "metadata": {},
   "outputs": [],
   "source": [
    "# Calling a function\n",
    " \n",
    "add(2, 3)"
   ]
  },
  {
   "cell_type": "code",
   "execution_count": null,
   "id": "0b1cf42f-0a31-4a02-808b-3b9774808cf8",
   "metadata": {},
   "outputs": [],
   "source": [
    "# Example 2\n",
    "\n",
    "def subtract (a , b):\n",
    "    \"\"\"\n",
    "    subtract is used to calculate the subtraction of two variables\n",
    "\n",
    "\n",
    "    Parameters\n",
    "    ----------\n",
    "    a : Numeric\n",
    "        a numeric variable\n",
    "    b : Numeric\n",
    "        a numeric variable\n",
    "\n",
    "    Returns\n",
    "    -------\n",
    "    c : Numeric\n",
    "        a - b\n",
    "    \"\"\"\n",
    "    c = a - b\n",
    "    \n",
    "    return c"
   ]
  },
  {
   "cell_type": "code",
   "execution_count": null,
   "id": "0f3d2640-c850-477e-82c0-ea9c2dc9225f",
   "metadata": {},
   "outputs": [],
   "source": [
    "subtract(2, 3)"
   ]
  },
  {
   "cell_type": "code",
   "execution_count": 4,
   "id": "982402ce-23c1-489f-849f-2505e68eb5d3",
   "metadata": {},
   "outputs": [
    {
     "name": "stdout",
     "output_type": "stream",
     "text": [
      "\n",
      "add is used to calculate the summation of two variables\n",
      "\n",
      "\n",
      "Parameters\n",
      "----------\n",
      "a : Numeric\n",
      "    a numeric variable\n",
      "b : Numeric\n",
      "    a numeric variable\n",
      "\n",
      "Returns\n",
      "-------\n",
      "c : Numeric\n",
      "    a + b\n",
      "\n"
     ]
    }
   ],
   "source": [
    "# How to get the documentation of a function\n",
    "\n",
    "print(add.__doc__)"
   ]
  },
  {
   "cell_type": "markdown",
   "id": "5b355b23-f502-48e9-a892-45d37d2af96e",
   "metadata": {},
   "source": [
    "<a name='lambda_functions'></a>\n",
    "##  2. Lambda functions \n",
    "We can make a function in one line using `lambda` as\n",
    "\n",
    "```Python\n",
    "function_name = lambda input1, input2: statement\n",
    "```"
   ]
  },
  {
   "cell_type": "code",
   "execution_count": null,
   "id": "96b949c6-349f-49df-b8ba-9ee73a4d84db",
   "metadata": {},
   "outputs": [],
   "source": [
    "add_lambda = lambda a, b: a + b"
   ]
  },
  {
   "cell_type": "code",
   "execution_count": null,
   "id": "d845ef17-8ef9-4df3-8212-c6b99c446846",
   "metadata": {},
   "outputs": [],
   "source": [
    "add_lambda(2, 3)"
   ]
  },
  {
   "cell_type": "markdown",
   "id": "1881ab66-ff1a-4492-acac-3b69b6da53b5",
   "metadata": {},
   "source": [
    "<a name='built_in'></a>\n",
    "## 3. Built in functions \n",
    "Python has a set of built-in functions.\n",
    "You can find a list of them <a href='https://www.w3schools.com/python/python_ref_functions.asp'>here</a>."
   ]
  },
  {
   "cell_type": "code",
   "execution_count": null,
   "id": "cf5d640f-50e3-457c-962d-6e0d6a92f6f1",
   "metadata": {},
   "outputs": [],
   "source": [
    "# Function for absolute value\n",
    "\n",
    "abs(-3)"
   ]
  },
  {
   "cell_type": "code",
   "execution_count": null,
   "id": "a7349b41-f27a-4cac-b9a2-a18a5cb5e569",
   "metadata": {},
   "outputs": [],
   "source": [
    "a = '2'\n",
    "\n",
    "print(type(a), type(float(a)))"
   ]
  },
  {
   "cell_type": "markdown",
   "id": "bb7bdb04-ba52-4386-855d-7faadb1a3c4d",
   "metadata": {},
   "source": [
    "### Let's learn some more useful and complicated built-in functions."
   ]
  },
  {
   "cell_type": "markdown",
   "id": "0797b4d3-2ef0-465c-847b-e0a9f171210e",
   "metadata": {},
   "source": [
    "<a name='map'></a>\n",
    "### 3.1 `map` function \n",
    "The `map()` function applies a specific function for each item in an iterable structure.\n",
    "\n",
    "```Python\n",
    "map(function_name, iterable)\n",
    "```"
   ]
  },
  {
   "cell_type": "code",
   "execution_count": null,
   "id": "0ad9d0f3-33ba-49a5-8a82-4af1801bde03",
   "metadata": {},
   "outputs": [],
   "source": [
    "add_lambda = lambda a, b: a + b\n",
    "\n",
    "add_lambda(1, 2)"
   ]
  },
  {
   "cell_type": "code",
   "execution_count": null,
   "id": "fad47d0b-a524-4eae-8bcc-02c66abcc20c",
   "metadata": {},
   "outputs": [],
   "source": [
    "# By entering 2 lists, addition becomes concatenation.\n",
    "\n",
    "add_lambda([1, 3], [3, 2])"
   ]
  },
  {
   "cell_type": "code",
   "execution_count": null,
   "id": "72d40d33-d6d7-48b9-9b5d-e4ce26173c38",
   "metadata": {},
   "outputs": [],
   "source": [
    "# To add up each two items, we need to use the map()\n",
    "\n",
    "x = map(add_lambda, [1, 3], [3, 2])"
   ]
  },
  {
   "cell_type": "markdown",
   "id": "592928d3-b8c7-4903-9991-e1aa2166a8d7",
   "metadata": {},
   "source": [
    "#### The output of `map()` has a type of map! 🤯"
   ]
  },
  {
   "cell_type": "code",
   "execution_count": null,
   "id": "151cd977-7e2b-4b55-8ead-8dd1ac5a17b2",
   "metadata": {},
   "outputs": [],
   "source": [
    "# Type is another built-in function\n",
    "\n",
    "type(x)"
   ]
  },
  {
   "cell_type": "markdown",
   "id": "fb2ced49-fa2b-49e2-bf22-feeb59a55959",
   "metadata": {},
   "source": [
    "#### So, we use another built-in function like `list()` to get our data in list type."
   ]
  },
  {
   "cell_type": "code",
   "execution_count": null,
   "id": "d81265e7-dd18-4cf7-8a77-156687482123",
   "metadata": {},
   "outputs": [],
   "source": [
    "list(x)"
   ]
  },
  {
   "cell_type": "markdown",
   "id": "908be54d-ca3b-48ac-a987-c2ecc6e85cf5",
   "metadata": {},
   "source": [
    "<a name='filter'></a>\n",
    "### 3.2 `filter` function \n",
    "The `filter()` function returns an iterator where the items are filtered through a function to test if the item is accepted or not."
   ]
  },
  {
   "cell_type": "code",
   "execution_count": 14,
   "id": "52d83bfd-5abb-4a61-b2ca-578cf4dee710",
   "metadata": {},
   "outputs": [],
   "source": [
    "def day_check(day):\n",
    "    workday_list = ['Mon', 'Tue', 'Wed', 'Thu', 'Fri']\n",
    "    \n",
    "    return day in  workday_list"
   ]
  },
  {
   "cell_type": "code",
   "execution_count": 15,
   "id": "e2ed8c0d-7036-436a-a8ab-9d4612cab211",
   "metadata": {},
   "outputs": [
    {
     "data": {
      "text/plain": [
       "filter"
      ]
     },
     "execution_count": 15,
     "metadata": {},
     "output_type": "execute_result"
    }
   ],
   "source": [
    "my_list = ['Python', 'May', 1, 'Mon', 'Fri', 'Sun', 'Sunday']\n",
    "\n",
    "x = filter(day_check, my_list)\n",
    "\n",
    "type(x)"
   ]
  },
  {
   "cell_type": "markdown",
   "id": "7c146fc6-2986-4f3d-8d65-8ca0ee999476",
   "metadata": {},
   "source": [
    "#### As is shown, the output of `filter()` has a type of filter. We use another build-in function like `tuple()` to get the data."
   ]
  },
  {
   "cell_type": "code",
   "execution_count": 16,
   "id": "9a6ab6b2-485a-4914-87ff-d6c209836a6d",
   "metadata": {},
   "outputs": [
    {
     "data": {
      "text/plain": [
       "('Mon', 'Fri')"
      ]
     },
     "execution_count": 16,
     "metadata": {},
     "output_type": "execute_result"
    }
   ],
   "source": [
    "tuple(x)"
   ]
  },
  {
   "cell_type": "markdown",
   "id": "fad2d522-3e1a-4237-a9dc-c0330c1fc0a6",
   "metadata": {},
   "source": [
    "<a name='enumerate'></a>\n",
    "### 3.3 `enumerate` function\n",
    "The `enumerate()` function takes a collection and returns it as an enumerate object.\n",
    "\n",
    "<a href='https://realpython.com/python-enumerate/'> Reference </a>"
   ]
  },
  {
   "cell_type": "code",
   "execution_count": 7,
   "id": "a3f9f598-f474-48ee-9c8a-069ed0a4fd59",
   "metadata": {},
   "outputs": [
    {
     "data": {
      "text/plain": [
       "<enumerate at 0x21fe2c91a80>"
      ]
     },
     "execution_count": 7,
     "metadata": {},
     "output_type": "execute_result"
    }
   ],
   "source": [
    "x = ['France', 'Japan', 'USA']\n",
    "\n",
    "y = enumerate(x)\n",
    "y"
   ]
  },
  {
   "cell_type": "code",
   "execution_count": 8,
   "id": "d4509374-4929-47d4-b9f8-b606d3ea22f7",
   "metadata": {},
   "outputs": [
    {
     "data": {
      "text/plain": [
       "[(0, 'France'), (1, 'Japan'), (2, 'USA')]"
      ]
     },
     "execution_count": 8,
     "metadata": {},
     "output_type": "execute_result"
    }
   ],
   "source": [
    "list(y)"
   ]
  },
  {
   "cell_type": "code",
   "execution_count": 9,
   "id": "258879c1-ec73-4706-ae82-14860b50b5ca",
   "metadata": {},
   "outputs": [
    {
     "name": "stdout",
     "output_type": "stream",
     "text": [
      "France\n",
      "Japan\n",
      "USA\n"
     ]
    }
   ],
   "source": [
    "for i, country in enumerate(x):\n",
    "    print(country)"
   ]
  },
  {
   "cell_type": "code",
   "execution_count": 10,
   "id": "f39fc4e8-80f5-4dd6-b402-5d3771aa6924",
   "metadata": {},
   "outputs": [],
   "source": [
    "def even_items(iterable):\n",
    "    return [v for i, v in enumerate(iterable, start=1) if not i % 2]"
   ]
  },
  {
   "cell_type": "code",
   "execution_count": 11,
   "id": "8edb156d-4009-4ec8-adc2-728c2e4168d2",
   "metadata": {},
   "outputs": [
    {
     "name": "stdout",
     "output_type": "stream",
     "text": [
      "[1, 2, 3, 4, 5, 6, 7, 8, 9, 10]\n"
     ]
    }
   ],
   "source": [
    "seq = list(range(1, 11))\n",
    "\n",
    "print(seq)"
   ]
  },
  {
   "cell_type": "code",
   "execution_count": 12,
   "id": "0f5b1995-aa88-49ea-b641-f60f90c271ff",
   "metadata": {},
   "outputs": [
    {
     "data": {
      "text/plain": [
       "[2, 4, 6, 8, 10]"
      ]
     },
     "execution_count": 12,
     "metadata": {},
     "output_type": "execute_result"
    }
   ],
   "source": [
    "even_items(seq)"
   ]
  },
  {
   "cell_type": "markdown",
   "id": "6a853ad0-27d4-4e06-ba70-227e9da97d9b",
   "metadata": {},
   "source": [
    "<a name='zip'></a>\n",
    "### 3.4 `zip` function\n",
    "Python’s `zip()` function creates an iterator of tuples that will aggregate elements from two or more iterables.\n",
    "\n",
    "<a href='https://realpython.com/python-zip-function/'> Reference </a> \n"
   ]
  },
  {
   "cell_type": "code",
   "execution_count": null,
   "id": "cf838638-b672-437b-87cb-461b851ab271",
   "metadata": {},
   "outputs": [],
   "source": [
    "a = [1, 2, 5, 1.3]\n",
    "b = ['Nike', ' Adidas', 'Soccer', 'Volleyball']\n",
    "\n",
    "c = zip(a, b)\n",
    "c"
   ]
  },
  {
   "cell_type": "code",
   "execution_count": null,
   "id": "b9b0022c-b927-4602-b1f9-148288e5e06a",
   "metadata": {},
   "outputs": [],
   "source": [
    "list(c)"
   ]
  },
  {
   "cell_type": "markdown",
   "id": "ece8848e-fd9b-4498-92c6-6263cdf3f4fe",
   "metadata": {},
   "source": [
    "<a name='classes'></a>\n",
    "## 4. Classes\n",
    "\n",
    "- Python is an ***object-oriented programming language*** and almost everything is an object in Python with its own attributes and methods\n",
    "- To create a class we use the keyword `class`\n",
    "\n",
    "<a href='https://realpython.com/preview/python-class-constructor/'> Reference </a> "
   ]
  },
  {
   "cell_type": "code",
   "execution_count": null,
   "id": "e5faf295-5bb2-4172-9fc8-185befa1d670",
   "metadata": {},
   "outputs": [],
   "source": [
    "# Example: create a class name calculator with 'add' and 'multiply' methods\n",
    "class Calculator:\n",
    "    \n",
    "    intro = 'Hi, this is my calculator! '\n",
    "    \n",
    "    def add(self, a, b):\n",
    "        return a + b\n",
    "    \n",
    "    def multiply(self, a, b):\n",
    "        return a * b"
   ]
  },
  {
   "cell_type": "code",
   "execution_count": null,
   "id": "1c61af6c-14c0-4d0f-8c13-1e8342df8001",
   "metadata": {},
   "outputs": [],
   "source": [
    "MyClass = Calculator()\n",
    "\n",
    "# Methods\n",
    "MyClass.add(1, 2)"
   ]
  },
  {
   "cell_type": "code",
   "execution_count": null,
   "id": "0654b903-bb7a-4ad0-a9ad-65b40d0504cb",
   "metadata": {},
   "outputs": [],
   "source": [
    "# Attribute \n",
    "\n",
    "print (MyClass.intro)"
   ]
  },
  {
   "cell_type": "code",
   "execution_count": null,
   "id": "9ac3effd-a322-4643-a995-c65d09fde074",
   "metadata": {},
   "outputs": [],
   "source": []
  },
  {
   "cell_type": "code",
   "execution_count": null,
   "id": "32bfdf5c-2504-460d-80b8-9ac412a1f822",
   "metadata": {},
   "outputs": [],
   "source": []
  },
  {
   "cell_type": "code",
   "execution_count": null,
   "id": "c11112a2-e086-4b37-84fe-a3c54deaaf58",
   "metadata": {},
   "outputs": [],
   "source": [
    "class Test:\n",
    "    def __init__(self):\n",
    "        self.name = \"Python\"\n",
    "obj = Test()\n",
    "print(hasattr(obj, 'name'))  # True\n",
    "print(hasattr(obj, 'age'))   # False"
   ]
  },
  {
   "cell_type": "code",
   "execution_count": null,
   "id": "69e47d33-607d-4791-abcc-ff3f228fb277",
   "metadata": {},
   "outputs": [],
   "source": [
    "# attributes and methods of an object\n",
    "x = 10\n",
    "print(dir(x))"
   ]
  },
  {
   "cell_type": "code",
   "execution_count": null,
   "id": "b48da30b-7f5e-4db7-aa53-c4f67f2e98b2",
   "metadata": {},
   "outputs": [],
   "source": [
    "# class of a variable:\n",
    "x = 10\n",
    "print(x.__class__)  # <class 'int'"
   ]
  },
  {
   "cell_type": "code",
   "execution_count": null,
   "id": "98154844-ea9a-40fe-9226-a628274bf0f1",
   "metadata": {},
   "outputs": [],
   "source": [
    "# Get the module name of a variable python: \n",
    "import math\n",
    "print(math.__name__)  # Output: 'math'\n",
    "\n",
    "print(math.sin.__module__)  # Output: 'math'\n",
    "\n",
    "# Or, for a custom class:\n",
    "class MyClass:\n",
    "    pass\n",
    "\n",
    "obj = MyClass()\n",
    "print(obj.__class__.__module__)  # Output: '__main__' (if running in a script)"
   ]
  },
  {
   "cell_type": "code",
   "execution_count": null,
   "id": "0dcb3360-619c-42cc-a4b2-c26a2f4e739b",
   "metadata": {},
   "outputs": [],
   "source": [
    "# Check if a variable is an instance of a specific class \n",
    "x = 10\n",
    "print(isinstance(x, int)) "
   ]
  },
  {
   "cell_type": "code",
   "execution_count": null,
   "id": "c2b7cc9a-3688-4031-bb91-673ba6b4f469",
   "metadata": {},
   "outputs": [],
   "source": [
    "# Check if a class is a subclass of another:\n",
    "class A:\n",
    "    pass\n",
    "class B(A):\n",
    "    pass\n",
    "print(issubclass(B, A)) "
   ]
  },
  {
   "cell_type": "code",
   "execution_count": null,
   "id": "8c34fe5b-1430-4a16-b2c4-67044c73e208",
   "metadata": {},
   "outputs": [],
   "source": []
  },
  {
   "cell_type": "markdown",
   "id": "50620611-aef5-4450-ab34-c3c0f60c1d9a",
   "metadata": {},
   "source": [
    "\n",
    "--------------------------------------------------------------------------------------------------------------------------------------------"
   ]
  },
  {
   "cell_type": "markdown",
   "id": "4fbccfd8-93d0-4d8f-8e4f-08ddc66fa123",
   "metadata": {},
   "source": [
    "<div style=\"\n",
    "    font-size:24px; \n",
    "    font-weight:bold; \n",
    "    color:#4CAF50; \n",
    "    text-align:center; \n",
    "    padding:20px;\n",
    "    border-radius:10px;\n",
    "    background-color:#f0f0f0;\">\n",
    "    🎉 Thank You for Using This Notebook! 🚀<br> \n",
    "    <span style=\"color:#ff5722;\">Happy Coding & Keep Learning! 💡</span>\n",
    "</div>"
   ]
  },
  {
   "cell_type": "code",
   "execution_count": null,
   "id": "02a1d6eb-51ba-405d-91a7-e3a7df7542b6",
   "metadata": {},
   "outputs": [],
   "source": []
  }
 ],
 "metadata": {
  "kernelspec": {
   "display_name": "Python 3 (ipykernel)",
   "language": "python",
   "name": "python3"
  },
  "language_info": {
   "codemirror_mode": {
    "name": "ipython",
    "version": 3
   },
   "file_extension": ".py",
   "mimetype": "text/x-python",
   "name": "python",
   "nbconvert_exporter": "python",
   "pygments_lexer": "ipython3",
   "version": "3.13.2"
  }
 },
 "nbformat": 4,
 "nbformat_minor": 5
}
