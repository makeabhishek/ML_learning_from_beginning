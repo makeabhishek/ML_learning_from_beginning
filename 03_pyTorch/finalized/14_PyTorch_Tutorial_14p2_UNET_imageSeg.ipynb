{
 "cells": [
  {
   "cell_type": "markdown",
   "id": "768bfa7e-8219-4fba-b565-f001f1ff87f8",
   "metadata": {},
   "source": [
    "https://www.youtube.com/watch?v=-I3yThvtkHs&list=PLS84ypkqWiQ8-TL0AmTRynkzK0v-d4C5m&index=3"
   ]
  },
  {
   "cell_type": "code",
   "execution_count": null,
   "id": "9453957d-94f0-4660-a685-2172e8d34cde",
   "metadata": {},
   "outputs": [],
   "source": []
  },
  {
   "cell_type": "code",
   "execution_count": null,
   "id": "92faabc3-6d26-47b2-855a-996f93423358",
   "metadata": {},
   "outputs": [],
   "source": []
  }
 ],
 "metadata": {
  "kernelspec": {
   "display_name": "Python 3 (ipykernel)",
   "language": "python",
   "name": "python3"
  },
  "language_info": {
   "codemirror_mode": {
    "name": "ipython",
    "version": 3
   },
   "file_extension": ".py",
   "mimetype": "text/x-python",
   "name": "python",
   "nbconvert_exporter": "python",
   "pygments_lexer": "ipython3",
   "version": "3.13.2"
  }
 },
 "nbformat": 4,
 "nbformat_minor": 5
}
